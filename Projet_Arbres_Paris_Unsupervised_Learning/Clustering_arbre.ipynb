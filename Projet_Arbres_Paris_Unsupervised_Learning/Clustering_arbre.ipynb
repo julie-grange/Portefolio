{
 "cells": [
  {
   "cell_type": "markdown",
   "metadata": {},
   "source": [
    "# Import librairies"
   ]
  },
  {
   "cell_type": "code",
   "execution_count": 1,
   "metadata": {},
   "outputs": [],
   "source": [
    "import pandas as pd\n",
    "import numpy as np\n",
    "import seaborn as sns\n",
    "from sklearn.cluster import KMeans\n",
    "from sklearn.metrics import silhouette_score\n",
    "from yellowbrick.cluster import KElbowVisualizer\n",
    "from sklearn.decomposition import PCA\n",
    "from sklearn.cluster import DBSCAN\n",
    "from sklearn.cluster import SpectralClustering\n",
    "from sklearn.metrics.cluster import adjusted_rand_score\n",
    "import matplotlib.pyplot as plt"
   ]
  },
  {
   "cell_type": "code",
   "execution_count": 2,
   "metadata": {},
   "outputs": [],
   "source": [
    "data = pd.read_csv(\"les-arbres.csv\", sep =';')"
   ]
  },
  {
   "cell_type": "code",
   "execution_count": 3,
   "metadata": {},
   "outputs": [
    {
     "data": {
      "text/html": [
       "<div>\n",
       "<style scoped>\n",
       "    .dataframe tbody tr th:only-of-type {\n",
       "        vertical-align: middle;\n",
       "    }\n",
       "\n",
       "    .dataframe tbody tr th {\n",
       "        vertical-align: top;\n",
       "    }\n",
       "\n",
       "    .dataframe thead th {\n",
       "        text-align: right;\n",
       "    }\n",
       "</style>\n",
       "<table border=\"1\" class=\"dataframe\">\n",
       "  <thead>\n",
       "    <tr style=\"text-align: right;\">\n",
       "      <th></th>\n",
       "      <th>IDBASE</th>\n",
       "      <th>TYPEEMPLACEMENT</th>\n",
       "      <th>DOMANIALITE</th>\n",
       "      <th>ARRONDISSEMENT</th>\n",
       "      <th>COMPLEMENTADRESSE</th>\n",
       "      <th>NUMERO</th>\n",
       "      <th>LIEU / ADRESSE</th>\n",
       "      <th>IDEMPLACEMENT</th>\n",
       "      <th>LIBELLEFRANCAIS</th>\n",
       "      <th>GENRE</th>\n",
       "      <th>ESPECE</th>\n",
       "      <th>VARIETEOUCULTIVAR</th>\n",
       "      <th>CIRCONFERENCEENCM</th>\n",
       "      <th>HAUTEUR (m)</th>\n",
       "      <th>STADEDEVELOPPEMENT</th>\n",
       "      <th>REMARQUABLE</th>\n",
       "      <th>geo_point_2d</th>\n",
       "    </tr>\n",
       "  </thead>\n",
       "  <tbody>\n",
       "    <tr>\n",
       "      <td>0</td>\n",
       "      <td>2009192.0</td>\n",
       "      <td>Arbre</td>\n",
       "      <td>Alignement</td>\n",
       "      <td>PARIS 4E ARRDT</td>\n",
       "      <td>NaN</td>\n",
       "      <td>NaN</td>\n",
       "      <td>QUAI D ORLEANS</td>\n",
       "      <td>000202010</td>\n",
       "      <td>Peuplier</td>\n",
       "      <td>Populus</td>\n",
       "      <td>n. sp.</td>\n",
       "      <td>NaN</td>\n",
       "      <td>25.0</td>\n",
       "      <td>5.0</td>\n",
       "      <td>J</td>\n",
       "      <td>0.0</td>\n",
       "      <td>48.85148173,2.354487895</td>\n",
       "    </tr>\n",
       "    <tr>\n",
       "      <td>1</td>\n",
       "      <td>111900.0</td>\n",
       "      <td>Arbre</td>\n",
       "      <td>Jardin</td>\n",
       "      <td>PARIS 20E ARRDT</td>\n",
       "      <td>NaN</td>\n",
       "      <td>NaN</td>\n",
       "      <td>SQUARE DE LA PAIX / 128 RUE DE LAGNY</td>\n",
       "      <td>000105095</td>\n",
       "      <td>Frêne à fleurs</td>\n",
       "      <td>Fraxinus</td>\n",
       "      <td>ornus</td>\n",
       "      <td>NaN</td>\n",
       "      <td>30.0</td>\n",
       "      <td>5.0</td>\n",
       "      <td>J</td>\n",
       "      <td>0.0</td>\n",
       "      <td>48.8484840426,2.41578924906</td>\n",
       "    </tr>\n",
       "    <tr>\n",
       "      <td>2</td>\n",
       "      <td>128083.0</td>\n",
       "      <td>Arbre</td>\n",
       "      <td>Jardin</td>\n",
       "      <td>PARIS 19E ARRDT</td>\n",
       "      <td>NaN</td>\n",
       "      <td>NaN</td>\n",
       "      <td>SQUARE DE LA RUE COMPANS</td>\n",
       "      <td>00000017</td>\n",
       "      <td>Robinier</td>\n",
       "      <td>Robinia</td>\n",
       "      <td>pseudoacacia</td>\n",
       "      <td>NaN</td>\n",
       "      <td>130.0</td>\n",
       "      <td>6.0</td>\n",
       "      <td>NaN</td>\n",
       "      <td>NaN</td>\n",
       "      <td>48.8780600881,2.39211203593</td>\n",
       "    </tr>\n",
       "    <tr>\n",
       "      <td>3</td>\n",
       "      <td>208933.0</td>\n",
       "      <td>Arbre</td>\n",
       "      <td>Alignement</td>\n",
       "      <td>PARIS 15E ARRDT</td>\n",
       "      <td>35</td>\n",
       "      <td>NaN</td>\n",
       "      <td>QUAI DE GRENELLE</td>\n",
       "      <td>000101002</td>\n",
       "      <td>Marronnier</td>\n",
       "      <td>Aesculus</td>\n",
       "      <td>hippocastanum</td>\n",
       "      <td>''Baumannii''</td>\n",
       "      <td>150.0</td>\n",
       "      <td>10.0</td>\n",
       "      <td>A</td>\n",
       "      <td>0.0</td>\n",
       "      <td>48.8523539904,2.28610910036</td>\n",
       "    </tr>\n",
       "    <tr>\n",
       "      <td>4</td>\n",
       "      <td>224733.0</td>\n",
       "      <td>Arbre</td>\n",
       "      <td>Alignement</td>\n",
       "      <td>PARIS 8E ARRDT</td>\n",
       "      <td>NaN</td>\n",
       "      <td>NaN</td>\n",
       "      <td>PLACE CHARLES DE GAULLE</td>\n",
       "      <td>001104004</td>\n",
       "      <td>Platane</td>\n",
       "      <td>Platanus</td>\n",
       "      <td>x hispanica</td>\n",
       "      <td>NaN</td>\n",
       "      <td>67.0</td>\n",
       "      <td>8.0</td>\n",
       "      <td>A</td>\n",
       "      <td>0.0</td>\n",
       "      <td>48.8734818781,2.29646123625</td>\n",
       "    </tr>\n",
       "  </tbody>\n",
       "</table>\n",
       "</div>"
      ],
      "text/plain": [
       "      IDBASE TYPEEMPLACEMENT DOMANIALITE   ARRONDISSEMENT COMPLEMENTADRESSE  \\\n",
       "0  2009192.0           Arbre  Alignement   PARIS 4E ARRDT               NaN   \n",
       "1   111900.0           Arbre      Jardin  PARIS 20E ARRDT               NaN   \n",
       "2   128083.0           Arbre      Jardin  PARIS 19E ARRDT               NaN   \n",
       "3   208933.0           Arbre  Alignement  PARIS 15E ARRDT                35   \n",
       "4   224733.0           Arbre  Alignement   PARIS 8E ARRDT               NaN   \n",
       "\n",
       "   NUMERO                        LIEU / ADRESSE IDEMPLACEMENT LIBELLEFRANCAIS  \\\n",
       "0     NaN                        QUAI D ORLEANS     000202010        Peuplier   \n",
       "1     NaN  SQUARE DE LA PAIX / 128 RUE DE LAGNY     000105095  Frêne à fleurs   \n",
       "2     NaN              SQUARE DE LA RUE COMPANS      00000017        Robinier   \n",
       "3     NaN                      QUAI DE GRENELLE     000101002      Marronnier   \n",
       "4     NaN               PLACE CHARLES DE GAULLE     001104004         Platane   \n",
       "\n",
       "      GENRE         ESPECE VARIETEOUCULTIVAR  CIRCONFERENCEENCM  HAUTEUR (m)  \\\n",
       "0   Populus         n. sp.               NaN               25.0          5.0   \n",
       "1  Fraxinus          ornus               NaN               30.0          5.0   \n",
       "2   Robinia   pseudoacacia               NaN              130.0          6.0   \n",
       "3  Aesculus  hippocastanum     ''Baumannii''              150.0         10.0   \n",
       "4  Platanus    x hispanica               NaN               67.0          8.0   \n",
       "\n",
       "  STADEDEVELOPPEMENT  REMARQUABLE                 geo_point_2d  \n",
       "0                  J          0.0      48.85148173,2.354487895  \n",
       "1                  J          0.0  48.8484840426,2.41578924906  \n",
       "2                NaN          NaN  48.8780600881,2.39211203593  \n",
       "3                  A          0.0  48.8523539904,2.28610910036  \n",
       "4                  A          0.0  48.8734818781,2.29646123625  "
      ]
     },
     "execution_count": 3,
     "metadata": {},
     "output_type": "execute_result"
    }
   ],
   "source": [
    "data.head()"
   ]
  },
  {
   "cell_type": "code",
   "execution_count": 4,
   "metadata": {},
   "outputs": [
    {
     "data": {
      "text/plain": [
       "(204134, 17)"
      ]
     },
     "execution_count": 4,
     "metadata": {},
     "output_type": "execute_result"
    }
   ],
   "source": [
    "data.shape"
   ]
  },
  {
   "cell_type": "code",
   "execution_count": 5,
   "metadata": {},
   "outputs": [
    {
     "data": {
      "text/html": [
       "<div>\n",
       "<style scoped>\n",
       "    .dataframe tbody tr th:only-of-type {\n",
       "        vertical-align: middle;\n",
       "    }\n",
       "\n",
       "    .dataframe tbody tr th {\n",
       "        vertical-align: top;\n",
       "    }\n",
       "\n",
       "    .dataframe thead th {\n",
       "        text-align: right;\n",
       "    }\n",
       "</style>\n",
       "<table border=\"1\" class=\"dataframe\">\n",
       "  <thead>\n",
       "    <tr style=\"text-align: right;\">\n",
       "      <th></th>\n",
       "      <th>IDBASE</th>\n",
       "      <th>NUMERO</th>\n",
       "      <th>CIRCONFERENCEENCM</th>\n",
       "      <th>HAUTEUR (m)</th>\n",
       "      <th>REMARQUABLE</th>\n",
       "    </tr>\n",
       "  </thead>\n",
       "  <tbody>\n",
       "    <tr>\n",
       "      <td>count</td>\n",
       "      <td>2.041340e+05</td>\n",
       "      <td>0.0</td>\n",
       "      <td>204134.000000</td>\n",
       "      <td>204134.000000</td>\n",
       "      <td>163805.000000</td>\n",
       "    </tr>\n",
       "    <tr>\n",
       "      <td>mean</td>\n",
       "      <td>4.331874e+05</td>\n",
       "      <td>NaN</td>\n",
       "      <td>85.056933</td>\n",
       "      <td>13.296624</td>\n",
       "      <td>0.001111</td>\n",
       "    </tr>\n",
       "    <tr>\n",
       "      <td>std</td>\n",
       "      <td>6.018687e+05</td>\n",
       "      <td>NaN</td>\n",
       "      <td>805.651088</td>\n",
       "      <td>1951.825029</td>\n",
       "      <td>0.033314</td>\n",
       "    </tr>\n",
       "    <tr>\n",
       "      <td>min</td>\n",
       "      <td>9.987400e+04</td>\n",
       "      <td>NaN</td>\n",
       "      <td>0.000000</td>\n",
       "      <td>0.000000</td>\n",
       "      <td>0.000000</td>\n",
       "    </tr>\n",
       "    <tr>\n",
       "      <td>25%</td>\n",
       "      <td>1.576022e+05</td>\n",
       "      <td>NaN</td>\n",
       "      <td>34.000000</td>\n",
       "      <td>5.000000</td>\n",
       "      <td>0.000000</td>\n",
       "    </tr>\n",
       "    <tr>\n",
       "      <td>50%</td>\n",
       "      <td>2.244995e+05</td>\n",
       "      <td>NaN</td>\n",
       "      <td>70.000000</td>\n",
       "      <td>8.000000</td>\n",
       "      <td>0.000000</td>\n",
       "    </tr>\n",
       "    <tr>\n",
       "      <td>75%</td>\n",
       "      <td>2.786508e+05</td>\n",
       "      <td>NaN</td>\n",
       "      <td>115.000000</td>\n",
       "      <td>12.000000</td>\n",
       "      <td>0.000000</td>\n",
       "    </tr>\n",
       "    <tr>\n",
       "      <td>max</td>\n",
       "      <td>2.030899e+06</td>\n",
       "      <td>NaN</td>\n",
       "      <td>250255.000000</td>\n",
       "      <td>881818.000000</td>\n",
       "      <td>1.000000</td>\n",
       "    </tr>\n",
       "  </tbody>\n",
       "</table>\n",
       "</div>"
      ],
      "text/plain": [
       "             IDBASE  NUMERO  CIRCONFERENCEENCM    HAUTEUR (m)    REMARQUABLE\n",
       "count  2.041340e+05     0.0      204134.000000  204134.000000  163805.000000\n",
       "mean   4.331874e+05     NaN          85.056933      13.296624       0.001111\n",
       "std    6.018687e+05     NaN         805.651088    1951.825029       0.033314\n",
       "min    9.987400e+04     NaN           0.000000       0.000000       0.000000\n",
       "25%    1.576022e+05     NaN          34.000000       5.000000       0.000000\n",
       "50%    2.244995e+05     NaN          70.000000       8.000000       0.000000\n",
       "75%    2.786508e+05     NaN         115.000000      12.000000       0.000000\n",
       "max    2.030899e+06     NaN      250255.000000  881818.000000       1.000000"
      ]
     },
     "execution_count": 5,
     "metadata": {},
     "output_type": "execute_result"
    }
   ],
   "source": [
    "data.describe()"
   ]
  },
  {
   "cell_type": "code",
   "execution_count": 6,
   "metadata": {},
   "outputs": [
    {
     "data": {
      "text/plain": [
       "IDBASE                float64\n",
       "TYPEEMPLACEMENT        object\n",
       "DOMANIALITE            object\n",
       "ARRONDISSEMENT         object\n",
       "COMPLEMENTADRESSE      object\n",
       "NUMERO                float64\n",
       "LIEU / ADRESSE         object\n",
       "IDEMPLACEMENT          object\n",
       "LIBELLEFRANCAIS        object\n",
       "GENRE                  object\n",
       "ESPECE                 object\n",
       "VARIETEOUCULTIVAR      object\n",
       "CIRCONFERENCEENCM     float64\n",
       "HAUTEUR (m)           float64\n",
       "STADEDEVELOPPEMENT     object\n",
       "REMARQUABLE           float64\n",
       "geo_point_2d           object\n",
       "dtype: object"
      ]
     },
     "execution_count": 6,
     "metadata": {},
     "output_type": "execute_result"
    }
   ],
   "source": [
    "data.dtypes"
   ]
  },
  {
   "cell_type": "code",
   "execution_count": 7,
   "metadata": {},
   "outputs": [
    {
     "data": {
      "text/plain": [
       "IDBASE                     0\n",
       "TYPEEMPLACEMENT            0\n",
       "DOMANIALITE                0\n",
       "ARRONDISSEMENT             0\n",
       "COMPLEMENTADRESSE     167631\n",
       "NUMERO                204134\n",
       "LIEU / ADRESSE             0\n",
       "IDEMPLACEMENT              0\n",
       "LIBELLEFRANCAIS          710\n",
       "GENRE                      1\n",
       "ESPECE                  2044\n",
       "VARIETEOUCULTIVAR     166632\n",
       "CIRCONFERENCEENCM          0\n",
       "HAUTEUR (m)                0\n",
       "STADEDEVELOPPEMENT     57073\n",
       "REMARQUABLE            40329\n",
       "geo_point_2d               0\n",
       "dtype: int64"
      ]
     },
     "execution_count": 7,
     "metadata": {},
     "output_type": "execute_result"
    }
   ],
   "source": [
    "data.isna().sum()"
   ]
  },
  {
   "cell_type": "code",
   "execution_count": 8,
   "metadata": {},
   "outputs": [
    {
     "data": {
      "text/plain": [
       "167631"
      ]
     },
     "execution_count": 8,
     "metadata": {},
     "output_type": "execute_result"
    }
   ],
   "source": [
    "data.COMPLEMENTADRESSE.isna().sum()"
   ]
  },
  {
   "cell_type": "code",
   "execution_count": 9,
   "metadata": {},
   "outputs": [
    {
     "data": {
      "text/plain": [
       "82.11811849079527"
      ]
     },
     "execution_count": 9,
     "metadata": {},
     "output_type": "execute_result"
    }
   ],
   "source": [
    "x = data.COMPLEMENTADRESSE.isna().sum()/data.shape[0]*100\n",
    "x"
   ]
  },
  {
   "cell_type": "code",
   "execution_count": 10,
   "metadata": {},
   "outputs": [
    {
     "data": {
      "text/plain": [
       "0.0004898742982550677"
      ]
     },
     "execution_count": 10,
     "metadata": {},
     "output_type": "execute_result"
    }
   ],
   "source": [
    "x = data.GENRE.isna().sum()/data.shape[0]*100\n",
    "x"
   ]
  },
  {
   "cell_type": "code",
   "execution_count": 11,
   "metadata": {},
   "outputs": [
    {
     "data": {
      "text/plain": [
       "100.0"
      ]
     },
     "execution_count": 11,
     "metadata": {},
     "output_type": "execute_result"
    }
   ],
   "source": [
    "x = data.NUMERO.isna().sum()/data.shape[0]*100\n",
    "x"
   ]
  },
  {
   "cell_type": "code",
   "execution_count": 12,
   "metadata": {},
   "outputs": [
    {
     "data": {
      "text/plain": [
       "1.0013030656333586"
      ]
     },
     "execution_count": 12,
     "metadata": {},
     "output_type": "execute_result"
    }
   ],
   "source": [
    "x = data.ESPECE.isna().sum()/data.shape[0]*100\n",
    "x"
   ]
  },
  {
   "cell_type": "code",
   "execution_count": 13,
   "metadata": {},
   "outputs": [
    {
     "data": {
      "text/plain": [
       "0.3478107517610981"
      ]
     },
     "execution_count": 13,
     "metadata": {},
     "output_type": "execute_result"
    }
   ],
   "source": [
    "x = data.LIBELLEFRANCAIS.isna().sum()/data.shape[0]*100\n",
    "x"
   ]
  },
  {
   "cell_type": "code",
   "execution_count": 14,
   "metadata": {},
   "outputs": [
    {
     "data": {
      "text/plain": [
       "27.958595824311484"
      ]
     },
     "execution_count": 14,
     "metadata": {},
     "output_type": "execute_result"
    }
   ],
   "source": [
    "x = data.STADEDEVELOPPEMENT.isna().sum()/data.shape[0]*100\n",
    "x"
   ]
  },
  {
   "cell_type": "code",
   "execution_count": 15,
   "metadata": {},
   "outputs": [
    {
     "data": {
      "text/plain": [
       "81.62873406683845"
      ]
     },
     "execution_count": 15,
     "metadata": {},
     "output_type": "execute_result"
    }
   ],
   "source": [
    "x = data.VARIETEOUCULTIVAR.isna().sum()/data.shape[0]*100\n",
    "x"
   ]
  },
  {
   "cell_type": "code",
   "execution_count": 16,
   "metadata": {},
   "outputs": [
    {
     "data": {
      "text/plain": [
       "19.756140574328626"
      ]
     },
     "execution_count": 16,
     "metadata": {},
     "output_type": "execute_result"
    }
   ],
   "source": [
    "x = data.REMARQUABLE.isna().sum()/data.shape[0]*100\n",
    "x"
   ]
  },
  {
   "cell_type": "code",
   "execution_count": 17,
   "metadata": {},
   "outputs": [],
   "source": [
    "data_drop = data.drop(columns=['COMPLEMENTADRESSE', 'NUMERO','VARIETEOUCULTIVAR'])"
   ]
  },
  {
   "cell_type": "code",
   "execution_count": 18,
   "metadata": {},
   "outputs": [
    {
     "data": {
      "text/html": [
       "<div>\n",
       "<style scoped>\n",
       "    .dataframe tbody tr th:only-of-type {\n",
       "        vertical-align: middle;\n",
       "    }\n",
       "\n",
       "    .dataframe tbody tr th {\n",
       "        vertical-align: top;\n",
       "    }\n",
       "\n",
       "    .dataframe thead th {\n",
       "        text-align: right;\n",
       "    }\n",
       "</style>\n",
       "<table border=\"1\" class=\"dataframe\">\n",
       "  <thead>\n",
       "    <tr style=\"text-align: right;\">\n",
       "      <th></th>\n",
       "      <th>IDBASE</th>\n",
       "      <th>TYPEEMPLACEMENT</th>\n",
       "      <th>DOMANIALITE</th>\n",
       "      <th>ARRONDISSEMENT</th>\n",
       "      <th>LIEU / ADRESSE</th>\n",
       "      <th>IDEMPLACEMENT</th>\n",
       "      <th>LIBELLEFRANCAIS</th>\n",
       "      <th>GENRE</th>\n",
       "      <th>ESPECE</th>\n",
       "      <th>CIRCONFERENCEENCM</th>\n",
       "      <th>HAUTEUR (m)</th>\n",
       "      <th>STADEDEVELOPPEMENT</th>\n",
       "      <th>REMARQUABLE</th>\n",
       "      <th>geo_point_2d</th>\n",
       "    </tr>\n",
       "  </thead>\n",
       "  <tbody>\n",
       "    <tr>\n",
       "      <td>0</td>\n",
       "      <td>2009192.0</td>\n",
       "      <td>Arbre</td>\n",
       "      <td>Alignement</td>\n",
       "      <td>PARIS 4E ARRDT</td>\n",
       "      <td>QUAI D ORLEANS</td>\n",
       "      <td>000202010</td>\n",
       "      <td>Peuplier</td>\n",
       "      <td>Populus</td>\n",
       "      <td>n. sp.</td>\n",
       "      <td>25.0</td>\n",
       "      <td>5.0</td>\n",
       "      <td>J</td>\n",
       "      <td>0.0</td>\n",
       "      <td>48.85148173,2.354487895</td>\n",
       "    </tr>\n",
       "    <tr>\n",
       "      <td>1</td>\n",
       "      <td>111900.0</td>\n",
       "      <td>Arbre</td>\n",
       "      <td>Jardin</td>\n",
       "      <td>PARIS 20E ARRDT</td>\n",
       "      <td>SQUARE DE LA PAIX / 128 RUE DE LAGNY</td>\n",
       "      <td>000105095</td>\n",
       "      <td>Frêne à fleurs</td>\n",
       "      <td>Fraxinus</td>\n",
       "      <td>ornus</td>\n",
       "      <td>30.0</td>\n",
       "      <td>5.0</td>\n",
       "      <td>J</td>\n",
       "      <td>0.0</td>\n",
       "      <td>48.8484840426,2.41578924906</td>\n",
       "    </tr>\n",
       "    <tr>\n",
       "      <td>2</td>\n",
       "      <td>128083.0</td>\n",
       "      <td>Arbre</td>\n",
       "      <td>Jardin</td>\n",
       "      <td>PARIS 19E ARRDT</td>\n",
       "      <td>SQUARE DE LA RUE COMPANS</td>\n",
       "      <td>00000017</td>\n",
       "      <td>Robinier</td>\n",
       "      <td>Robinia</td>\n",
       "      <td>pseudoacacia</td>\n",
       "      <td>130.0</td>\n",
       "      <td>6.0</td>\n",
       "      <td>NaN</td>\n",
       "      <td>NaN</td>\n",
       "      <td>48.8780600881,2.39211203593</td>\n",
       "    </tr>\n",
       "    <tr>\n",
       "      <td>3</td>\n",
       "      <td>208933.0</td>\n",
       "      <td>Arbre</td>\n",
       "      <td>Alignement</td>\n",
       "      <td>PARIS 15E ARRDT</td>\n",
       "      <td>QUAI DE GRENELLE</td>\n",
       "      <td>000101002</td>\n",
       "      <td>Marronnier</td>\n",
       "      <td>Aesculus</td>\n",
       "      <td>hippocastanum</td>\n",
       "      <td>150.0</td>\n",
       "      <td>10.0</td>\n",
       "      <td>A</td>\n",
       "      <td>0.0</td>\n",
       "      <td>48.8523539904,2.28610910036</td>\n",
       "    </tr>\n",
       "    <tr>\n",
       "      <td>4</td>\n",
       "      <td>224733.0</td>\n",
       "      <td>Arbre</td>\n",
       "      <td>Alignement</td>\n",
       "      <td>PARIS 8E ARRDT</td>\n",
       "      <td>PLACE CHARLES DE GAULLE</td>\n",
       "      <td>001104004</td>\n",
       "      <td>Platane</td>\n",
       "      <td>Platanus</td>\n",
       "      <td>x hispanica</td>\n",
       "      <td>67.0</td>\n",
       "      <td>8.0</td>\n",
       "      <td>A</td>\n",
       "      <td>0.0</td>\n",
       "      <td>48.8734818781,2.29646123625</td>\n",
       "    </tr>\n",
       "  </tbody>\n",
       "</table>\n",
       "</div>"
      ],
      "text/plain": [
       "      IDBASE TYPEEMPLACEMENT DOMANIALITE   ARRONDISSEMENT  \\\n",
       "0  2009192.0           Arbre  Alignement   PARIS 4E ARRDT   \n",
       "1   111900.0           Arbre      Jardin  PARIS 20E ARRDT   \n",
       "2   128083.0           Arbre      Jardin  PARIS 19E ARRDT   \n",
       "3   208933.0           Arbre  Alignement  PARIS 15E ARRDT   \n",
       "4   224733.0           Arbre  Alignement   PARIS 8E ARRDT   \n",
       "\n",
       "                         LIEU / ADRESSE IDEMPLACEMENT LIBELLEFRANCAIS  \\\n",
       "0                        QUAI D ORLEANS     000202010        Peuplier   \n",
       "1  SQUARE DE LA PAIX / 128 RUE DE LAGNY     000105095  Frêne à fleurs   \n",
       "2              SQUARE DE LA RUE COMPANS      00000017        Robinier   \n",
       "3                      QUAI DE GRENELLE     000101002      Marronnier   \n",
       "4               PLACE CHARLES DE GAULLE     001104004         Platane   \n",
       "\n",
       "      GENRE         ESPECE  CIRCONFERENCEENCM  HAUTEUR (m) STADEDEVELOPPEMENT  \\\n",
       "0   Populus         n. sp.               25.0          5.0                  J   \n",
       "1  Fraxinus          ornus               30.0          5.0                  J   \n",
       "2   Robinia   pseudoacacia              130.0          6.0                NaN   \n",
       "3  Aesculus  hippocastanum              150.0         10.0                  A   \n",
       "4  Platanus    x hispanica               67.0          8.0                  A   \n",
       "\n",
       "   REMARQUABLE                 geo_point_2d  \n",
       "0          0.0      48.85148173,2.354487895  \n",
       "1          0.0  48.8484840426,2.41578924906  \n",
       "2          NaN  48.8780600881,2.39211203593  \n",
       "3          0.0  48.8523539904,2.28610910036  \n",
       "4          0.0  48.8734818781,2.29646123625  "
      ]
     },
     "execution_count": 18,
     "metadata": {},
     "output_type": "execute_result"
    }
   ],
   "source": [
    "data_drop.head()"
   ]
  },
  {
   "cell_type": "code",
   "execution_count": 19,
   "metadata": {},
   "outputs": [],
   "source": [
    "data_drop.dropna(inplace=True)"
   ]
  },
  {
   "cell_type": "code",
   "execution_count": 20,
   "metadata": {},
   "outputs": [
    {
     "data": {
      "text/html": [
       "<div>\n",
       "<style scoped>\n",
       "    .dataframe tbody tr th:only-of-type {\n",
       "        vertical-align: middle;\n",
       "    }\n",
       "\n",
       "    .dataframe tbody tr th {\n",
       "        vertical-align: top;\n",
       "    }\n",
       "\n",
       "    .dataframe thead th {\n",
       "        text-align: right;\n",
       "    }\n",
       "</style>\n",
       "<table border=\"1\" class=\"dataframe\">\n",
       "  <thead>\n",
       "    <tr style=\"text-align: right;\">\n",
       "      <th></th>\n",
       "      <th>IDBASE</th>\n",
       "      <th>TYPEEMPLACEMENT</th>\n",
       "      <th>DOMANIALITE</th>\n",
       "      <th>ARRONDISSEMENT</th>\n",
       "      <th>LIEU / ADRESSE</th>\n",
       "      <th>IDEMPLACEMENT</th>\n",
       "      <th>LIBELLEFRANCAIS</th>\n",
       "      <th>GENRE</th>\n",
       "      <th>ESPECE</th>\n",
       "      <th>CIRCONFERENCEENCM</th>\n",
       "      <th>HAUTEUR (m)</th>\n",
       "      <th>STADEDEVELOPPEMENT</th>\n",
       "      <th>REMARQUABLE</th>\n",
       "      <th>geo_point_2d</th>\n",
       "    </tr>\n",
       "  </thead>\n",
       "  <tbody>\n",
       "    <tr>\n",
       "      <td>0</td>\n",
       "      <td>2009192.0</td>\n",
       "      <td>Arbre</td>\n",
       "      <td>Alignement</td>\n",
       "      <td>PARIS 4E ARRDT</td>\n",
       "      <td>QUAI D ORLEANS</td>\n",
       "      <td>000202010</td>\n",
       "      <td>Peuplier</td>\n",
       "      <td>Populus</td>\n",
       "      <td>n. sp.</td>\n",
       "      <td>25.0</td>\n",
       "      <td>5.0</td>\n",
       "      <td>J</td>\n",
       "      <td>0.0</td>\n",
       "      <td>48.85148173,2.354487895</td>\n",
       "    </tr>\n",
       "    <tr>\n",
       "      <td>1</td>\n",
       "      <td>111900.0</td>\n",
       "      <td>Arbre</td>\n",
       "      <td>Jardin</td>\n",
       "      <td>PARIS 20E ARRDT</td>\n",
       "      <td>SQUARE DE LA PAIX / 128 RUE DE LAGNY</td>\n",
       "      <td>000105095</td>\n",
       "      <td>Frêne à fleurs</td>\n",
       "      <td>Fraxinus</td>\n",
       "      <td>ornus</td>\n",
       "      <td>30.0</td>\n",
       "      <td>5.0</td>\n",
       "      <td>J</td>\n",
       "      <td>0.0</td>\n",
       "      <td>48.8484840426,2.41578924906</td>\n",
       "    </tr>\n",
       "    <tr>\n",
       "      <td>3</td>\n",
       "      <td>208933.0</td>\n",
       "      <td>Arbre</td>\n",
       "      <td>Alignement</td>\n",
       "      <td>PARIS 15E ARRDT</td>\n",
       "      <td>QUAI DE GRENELLE</td>\n",
       "      <td>000101002</td>\n",
       "      <td>Marronnier</td>\n",
       "      <td>Aesculus</td>\n",
       "      <td>hippocastanum</td>\n",
       "      <td>150.0</td>\n",
       "      <td>10.0</td>\n",
       "      <td>A</td>\n",
       "      <td>0.0</td>\n",
       "      <td>48.8523539904,2.28610910036</td>\n",
       "    </tr>\n",
       "    <tr>\n",
       "      <td>4</td>\n",
       "      <td>224733.0</td>\n",
       "      <td>Arbre</td>\n",
       "      <td>Alignement</td>\n",
       "      <td>PARIS 8E ARRDT</td>\n",
       "      <td>PLACE CHARLES DE GAULLE</td>\n",
       "      <td>001104004</td>\n",
       "      <td>Platane</td>\n",
       "      <td>Platanus</td>\n",
       "      <td>x hispanica</td>\n",
       "      <td>67.0</td>\n",
       "      <td>8.0</td>\n",
       "      <td>A</td>\n",
       "      <td>0.0</td>\n",
       "      <td>48.8734818781,2.29646123625</td>\n",
       "    </tr>\n",
       "    <tr>\n",
       "      <td>5</td>\n",
       "      <td>2003211.0</td>\n",
       "      <td>Arbre</td>\n",
       "      <td>Alignement</td>\n",
       "      <td>BOIS DE VINCENNES</td>\n",
       "      <td>CARREFOUR DE LA FERME DE LA FAISANDERIE</td>\n",
       "      <td>000202001</td>\n",
       "      <td>Pommier</td>\n",
       "      <td>Malus</td>\n",
       "      <td>n. sp.</td>\n",
       "      <td>25.0</td>\n",
       "      <td>5.0</td>\n",
       "      <td>J</td>\n",
       "      <td>0.0</td>\n",
       "      <td>48.8236992293,2.45805540839</td>\n",
       "    </tr>\n",
       "  </tbody>\n",
       "</table>\n",
       "</div>"
      ],
      "text/plain": [
       "      IDBASE TYPEEMPLACEMENT DOMANIALITE     ARRONDISSEMENT  \\\n",
       "0  2009192.0           Arbre  Alignement     PARIS 4E ARRDT   \n",
       "1   111900.0           Arbre      Jardin    PARIS 20E ARRDT   \n",
       "3   208933.0           Arbre  Alignement    PARIS 15E ARRDT   \n",
       "4   224733.0           Arbre  Alignement     PARIS 8E ARRDT   \n",
       "5  2003211.0           Arbre  Alignement  BOIS DE VINCENNES   \n",
       "\n",
       "                            LIEU / ADRESSE IDEMPLACEMENT LIBELLEFRANCAIS  \\\n",
       "0                           QUAI D ORLEANS     000202010        Peuplier   \n",
       "1     SQUARE DE LA PAIX / 128 RUE DE LAGNY     000105095  Frêne à fleurs   \n",
       "3                         QUAI DE GRENELLE     000101002      Marronnier   \n",
       "4                  PLACE CHARLES DE GAULLE     001104004         Platane   \n",
       "5  CARREFOUR DE LA FERME DE LA FAISANDERIE     000202001         Pommier   \n",
       "\n",
       "      GENRE         ESPECE  CIRCONFERENCEENCM  HAUTEUR (m) STADEDEVELOPPEMENT  \\\n",
       "0   Populus         n. sp.               25.0          5.0                  J   \n",
       "1  Fraxinus          ornus               30.0          5.0                  J   \n",
       "3  Aesculus  hippocastanum              150.0         10.0                  A   \n",
       "4  Platanus    x hispanica               67.0          8.0                  A   \n",
       "5     Malus         n. sp.               25.0          5.0                  J   \n",
       "\n",
       "   REMARQUABLE                 geo_point_2d  \n",
       "0          0.0      48.85148173,2.354487895  \n",
       "1          0.0  48.8484840426,2.41578924906  \n",
       "3          0.0  48.8523539904,2.28610910036  \n",
       "4          0.0  48.8734818781,2.29646123625  \n",
       "5          0.0  48.8236992293,2.45805540839  "
      ]
     },
     "execution_count": 20,
     "metadata": {},
     "output_type": "execute_result"
    }
   ],
   "source": [
    "data_drop.head()"
   ]
  },
  {
   "cell_type": "code",
   "execution_count": 21,
   "metadata": {},
   "outputs": [
    {
     "data": {
      "text/plain": [
       "IDBASE                0\n",
       "TYPEEMPLACEMENT       0\n",
       "DOMANIALITE           0\n",
       "ARRONDISSEMENT        0\n",
       "LIEU / ADRESSE        0\n",
       "IDEMPLACEMENT         0\n",
       "LIBELLEFRANCAIS       0\n",
       "GENRE                 0\n",
       "ESPECE                0\n",
       "CIRCONFERENCEENCM     0\n",
       "HAUTEUR (m)           0\n",
       "STADEDEVELOPPEMENT    0\n",
       "REMARQUABLE           0\n",
       "geo_point_2d          0\n",
       "dtype: int64"
      ]
     },
     "execution_count": 21,
     "metadata": {},
     "output_type": "execute_result"
    }
   ],
   "source": [
    "data_drop.isna().sum()"
   ]
  },
  {
   "cell_type": "code",
   "execution_count": 22,
   "metadata": {},
   "outputs": [
    {
     "data": {
      "text/plain": [
       "(143335, 14)"
      ]
     },
     "execution_count": 22,
     "metadata": {},
     "output_type": "execute_result"
    }
   ],
   "source": [
    "data_drop.shape"
   ]
  },
  {
   "cell_type": "code",
   "execution_count": 23,
   "metadata": {},
   "outputs": [
    {
     "data": {
      "text/plain": [
       "Arbre    143335\n",
       "Name: TYPEEMPLACEMENT, dtype: int64"
      ]
     },
     "execution_count": 23,
     "metadata": {},
     "output_type": "execute_result"
    }
   ],
   "source": [
    "data_drop.TYPEEMPLACEMENT.value_counts()"
   ]
  },
  {
   "cell_type": "code",
   "execution_count": 24,
   "metadata": {},
   "outputs": [],
   "source": [
    "data_drop.drop(columns = ['TYPEEMPLACEMENT'], inplace = True)"
   ]
  },
  {
   "cell_type": "code",
   "execution_count": 25,
   "metadata": {},
   "outputs": [
    {
     "data": {
      "text/plain": [
       "Alignement      98195\n",
       "Jardin          20811\n",
       "CIMETIERE       12359\n",
       "DASCO            5531\n",
       "DJS              2979\n",
       "PERIPHERIQUE     2290\n",
       "DFPE             1154\n",
       "DAC                16\n",
       "Name: DOMANIALITE, dtype: int64"
      ]
     },
     "execution_count": 25,
     "metadata": {},
     "output_type": "execute_result"
    }
   ],
   "source": [
    "data_drop.DOMANIALITE.value_counts()"
   ]
  },
  {
   "cell_type": "code",
   "execution_count": 26,
   "metadata": {},
   "outputs": [
    {
     "data": {
      "text/plain": [
       "PARIS 16E ARRDT      13755\n",
       "PARIS 20E ARRDT      12428\n",
       "PARIS 13E ARRDT      12355\n",
       "PARIS 15E ARRDT      10043\n",
       "PARIS 14E ARRDT      10037\n",
       "PARIS 19E ARRDT       9249\n",
       "PARIS 12E ARRDT       8933\n",
       "PARIS 18E ARRDT       8749\n",
       "BOIS DE VINCENNES     8735\n",
       "PARIS 7E ARRDT        7963\n",
       "PARIS 17E ARRDT       7949\n",
       "PARIS 8E ARRDT        6140\n",
       "PARIS 11E ARRDT       4465\n",
       "BOIS DE BOULOGNE      3851\n",
       "VAL-DE-MARNE          3601\n",
       "SEINE-SAINT-DENIS     3155\n",
       "PARIS 10E ARRDT       2527\n",
       "PARIS 4E ARRDT        2127\n",
       "PARIS 5E ARRDT        1795\n",
       "PARIS 6E ARRDT        1413\n",
       "PARIS 1ER ARRDT       1074\n",
       "PARIS 9E ARRDT        1041\n",
       "PARIS 3E ARRDT         988\n",
       "HAUTS-DE-SEINE         494\n",
       "PARIS 2E ARRDT         468\n",
       "Name: ARRONDISSEMENT, dtype: int64"
      ]
     },
     "execution_count": 26,
     "metadata": {},
     "output_type": "execute_result"
    }
   ],
   "source": [
    "data_drop.ARRONDISSEMENT.value_counts()"
   ]
  },
  {
   "cell_type": "code",
   "execution_count": 27,
   "metadata": {},
   "outputs": [
    {
     "data": {
      "text/plain": [
       "PARC FLORAL DE PARIS / ROUTE DE LA PYRAMIDE             1644\n",
       "INSEP / AVENUE DU TREMBLAY                              1283\n",
       "AVENUE DES CHAMPS ELYSEES                               1230\n",
       "JARDIN DU CHAMP DE MARS                                 1075\n",
       "PARC MONTSOURIS / 28 BOULEVARD JOURDAN                  1043\n",
       "                                                        ... \n",
       "CIMETIERE DE PANTIN / AVENUE DES GARDES / DIV 166          1\n",
       "CITE TRAEGER                                               1\n",
       "CIMETIERE DE BAGNEUX / DIV 41                              1\n",
       "CIMETIERE DE THIAIS / AVENUE E / DIV 61                    1\n",
       "CIMETIERE DE PANTIN / AVENUE DES MERISIERS / DIV 128       1\n",
       "Name: LIEU / ADRESSE, Length: 4977, dtype: int64"
      ]
     },
     "execution_count": 27,
     "metadata": {},
     "output_type": "execute_result"
    }
   ],
   "source": [
    "data_drop['LIEU / ADRESSE'].value_counts()"
   ]
  },
  {
   "cell_type": "code",
   "execution_count": 28,
   "metadata": {},
   "outputs": [],
   "source": [
    "data_drop.drop(columns = ['LIEU / ADRESSE','ESPECE'], inplace = True)"
   ]
  },
  {
   "cell_type": "code",
   "execution_count": 29,
   "metadata": {},
   "outputs": [
    {
     "data": {
      "text/plain": [
       "Platane                 38508\n",
       "Marronnier              20882\n",
       "Tilleul                 16105\n",
       "Erable                  10810\n",
       "Sophora                  9774\n",
       "                        ...  \n",
       "Euscaphis                   1\n",
       "Fremontia                   1\n",
       "Kalopanax                   1\n",
       "Heptacodion de Chine        1\n",
       "Andromède                   1\n",
       "Name: LIBELLEFRANCAIS, Length: 174, dtype: int64"
      ]
     },
     "execution_count": 29,
     "metadata": {},
     "output_type": "execute_result"
    }
   ],
   "source": [
    "data_drop['LIBELLEFRANCAIS'].value_counts()"
   ]
  },
  {
   "cell_type": "code",
   "execution_count": 30,
   "metadata": {},
   "outputs": [
    {
     "data": {
      "text/plain": [
       "Platane                 38508\n",
       "Marronnier              20882\n",
       "Tilleul                 16105\n",
       "Erable                  10810\n",
       "Sophora                  9774\n",
       "Micocoulier              3427\n",
       "Frêne                    2815\n",
       "Noisetier de Byzance     2662\n",
       "Chêne                    2583\n",
       "Poirier à fleurs         2491\n",
       "Cerisier à fleurs        2259\n",
       "Peuplier                 2168\n",
       "Pin                      2069\n",
       "Charme                   1944\n",
       "Robinier                 1426\n",
       "Paulownia                1078\n",
       "Fevier                    977\n",
       "If                        962\n",
       "Bouleau                   921\n",
       "Cedrele                   812\n",
       "Name: LIBELLEFRANCAIS, dtype: int64"
      ]
     },
     "execution_count": 30,
     "metadata": {},
     "output_type": "execute_result"
    }
   ],
   "source": [
    "data_drop['LIBELLEFRANCAIS'].value_counts()[:20]"
   ]
  },
  {
   "cell_type": "code",
   "execution_count": 31,
   "metadata": {},
   "outputs": [
    {
     "data": {
      "text/plain": [
       "['Arbre aux quarante écus',\n",
       " 'Noyer',\n",
       " 'Arbre de Judée',\n",
       " 'Orme',\n",
       " 'Magnolia',\n",
       " 'Prunier à fleurs',\n",
       " 'Pterocarya',\n",
       " 'Frêne à fleurs',\n",
       " 'Tulipier',\n",
       " 'Ailante',\n",
       " 'Hêtre',\n",
       " 'Mûrier',\n",
       " 'Merisier',\n",
       " 'Pommier à fleurs',\n",
       " 'Cèdre',\n",
       " 'Cyprès',\n",
       " 'Savonnier',\n",
       " 'Charme-Houblon',\n",
       " 'Copalme',\n",
       " 'Lilas des indes',\n",
       " 'Catalpa',\n",
       " 'Pommier à fruits',\n",
       " 'Cerisier à grappes',\n",
       " 'Troene',\n",
       " 'Prunus n. sp.',\n",
       " 'Aulne',\n",
       " 'Orme de Sibérie',\n",
       " 'Faux-cyprès',\n",
       " 'Amélanchier',\n",
       " 'Pommier',\n",
       " 'Non spécifié',\n",
       " 'Parrotie de Perse - Arbre de fer',\n",
       " 'Houx',\n",
       " 'Thuya',\n",
       " 'Cornouiller',\n",
       " 'Alisier',\n",
       " 'Chicot du Canada',\n",
       " 'Aubépine',\n",
       " 'Arbre à soie',\n",
       " 'Poirier à fruits',\n",
       " 'Châtaignier',\n",
       " 'Palmier',\n",
       " 'Sorbier',\n",
       " 'Saule',\n",
       " 'Epicéa',\n",
       " 'Eleagnus - Chalef',\n",
       " 'Lilas de Perse',\n",
       " 'Plaqueminier',\n",
       " 'Aubepine',\n",
       " 'Laurier du Portugal',\n",
       " 'Poirier',\n",
       " 'Olivier',\n",
       " 'Photinia',\n",
       " 'Prunier à fruits',\n",
       " 'Troëne',\n",
       " 'Metaséquoia',\n",
       " 'Noisetier',\n",
       " 'Sequoia',\n",
       " 'Pêcher',\n",
       " 'Figuier',\n",
       " 'Amandier',\n",
       " 'Sureau',\n",
       " 'Sapin',\n",
       " 'Arbre à caramel',\n",
       " 'Cerisier à fruits',\n",
       " 'Cognassier',\n",
       " 'Libocèdre',\n",
       " 'Laurier du caucase',\n",
       " 'Virgilier',\n",
       " 'Eucalyptus',\n",
       " 'Cytise',\n",
       " 'Oranger des Osages',\n",
       " 'Arbre à miel',\n",
       " 'Abricotier',\n",
       " 'Buis',\n",
       " 'Clerodendron',\n",
       " 'Cerisier à fleurs, cerisier griotte',\n",
       " 'Laurier sauce',\n",
       " 'Laurier-Cerise',\n",
       " 'Chitalpa',\n",
       " 'Fontanesia',\n",
       " 'Prunus Fleur n. sp.',\n",
       " 'Néflier commun',\n",
       " 'Cabrillet',\n",
       " 'Phellodendron',\n",
       " 'Althéa',\n",
       " 'Poivrier',\n",
       " 'Mélèze',\n",
       " 'Néflier',\n",
       " 'Araucaria',\n",
       " 'Filaire',\n",
       " 'Arbre aux mouchoirs',\n",
       " 'Prunellier',\n",
       " 'Tamaris',\n",
       " 'Fusain',\n",
       " 'Sterculier',\n",
       " 'Nothofagus',\n",
       " 'Céphalotaxe',\n",
       " 'Cyprès Chauve',\n",
       " 'Cotoneaster',\n",
       " 'Arbousier',\n",
       " 'Olivier odorant',\n",
       " 'Caryer',\n",
       " 'Prunus Fruit n. sp.',\n",
       " 'Arbre à perruque',\n",
       " 'Orme de Samarie',\n",
       " 'Grenadier',\n",
       " 'Cryptomeria',\n",
       " 'Tsuga',\n",
       " 'Muscadier',\n",
       " 'Genévrier',\n",
       " 'Arbre à Gutta-Percha',\n",
       " 'Nyssa',\n",
       " 'Cormier',\n",
       " 'Laurier des Iroquois',\n",
       " 'Parrotie de Perse',\n",
       " 'Staphylier',\n",
       " 'Sapin Douglas',\n",
       " 'Viorne',\n",
       " 'Styrax',\n",
       " 'Lilas',\n",
       " 'Citronnier',\n",
       " 'Goyavier',\n",
       " 'Nerprun',\n",
       " 'Argousier',\n",
       " 'Asiminier',\n",
       " 'Chimonanthe',\n",
       " 'Cunninghamia',\n",
       " 'Laurier',\n",
       " 'Camphrier',\n",
       " 'Callistemon',\n",
       " 'Myrte du Chili',\n",
       " 'Alangium',\n",
       " 'Poliothyrsis',\n",
       " 'Sumac',\n",
       " 'Chèvrefeuille',\n",
       " 'Faux dattier',\n",
       " \"Fustet d'' Amérique\",\n",
       " 'Hiba',\n",
       " 'Maackie',\n",
       " 'Sycopsis',\n",
       " 'Angélique',\n",
       " 'Abelia',\n",
       " 'Buddleja',\n",
       " 'Caragana',\n",
       " 'Jujubier',\n",
       " 'Pistachier',\n",
       " 'Platycarya',\n",
       " 'Laurier des Açores',\n",
       " 'Euscaphis',\n",
       " 'Fremontia',\n",
       " 'Kalopanax',\n",
       " 'Heptacodion de Chine',\n",
       " 'Andromède']"
      ]
     },
     "execution_count": 31,
     "metadata": {},
     "output_type": "execute_result"
    }
   ],
   "source": [
    "top20 = data_drop['LIBELLEFRANCAIS'].value_counts().index.tolist()[20:]\n",
    "top20"
   ]
  },
  {
   "cell_type": "code",
   "execution_count": 32,
   "metadata": {},
   "outputs": [
    {
     "name": "stderr",
     "output_type": "stream",
     "text": [
      "/Users/julieG/opt/anaconda3/lib/python3.7/site-packages/ipykernel_launcher.py:1: SettingWithCopyWarning: \n",
      "A value is trying to be set on a copy of a slice from a DataFrame\n",
      "\n",
      "See the caveats in the documentation: http://pandas.pydata.org/pandas-docs/stable/user_guide/indexing.html#returning-a-view-versus-a-copy\n",
      "  \"\"\"Entry point for launching an IPython kernel.\n"
     ]
    }
   ],
   "source": [
    "data_drop['LIBELLEFRANCAIS'][data_drop['LIBELLEFRANCAIS'].isin(top20)] = \"OTHER\""
   ]
  },
  {
   "cell_type": "code",
   "execution_count": 33,
   "metadata": {},
   "outputs": [
    {
     "data": {
      "text/plain": [
       "Platane                 38508\n",
       "Marronnier              20882\n",
       "OTHER                   18662\n",
       "Tilleul                 16105\n",
       "Erable                  10810\n",
       "Sophora                  9774\n",
       "Micocoulier              3427\n",
       "Frêne                    2815\n",
       "Noisetier de Byzance     2662\n",
       "Chêne                    2583\n",
       "Poirier à fleurs         2491\n",
       "Cerisier à fleurs        2259\n",
       "Peuplier                 2168\n",
       "Pin                      2069\n",
       "Charme                   1944\n",
       "Robinier                 1426\n",
       "Paulownia                1078\n",
       "Fevier                    977\n",
       "If                        962\n",
       "Bouleau                   921\n",
       "Name: LIBELLEFRANCAIS, dtype: int64"
      ]
     },
     "execution_count": 33,
     "metadata": {},
     "output_type": "execute_result"
    }
   ],
   "source": [
    "data_drop['LIBELLEFRANCAIS'].value_counts()[0:20]"
   ]
  },
  {
   "cell_type": "code",
   "execution_count": 34,
   "metadata": {},
   "outputs": [
    {
     "data": {
      "text/plain": [
       "Platanus     38508\n",
       "Aesculus     20882\n",
       "Tilia        16105\n",
       "Acer         10810\n",
       "Sophora       9774\n",
       "Prunus        4455\n",
       "Celtis        3427\n",
       "Fraxinus      3414\n",
       "Pyrus         2724\n",
       "Corylus       2717\n",
       "Quercus       2582\n",
       "Populus       2168\n",
       "Pinus         2069\n",
       "Carpinus      1944\n",
       "Robinia       1426\n",
       "Paulownia     1078\n",
       "Malus         1071\n",
       "Gleditsia      974\n",
       "Taxus          962\n",
       "Betula         921\n",
       "Name: GENRE, dtype: int64"
      ]
     },
     "execution_count": 34,
     "metadata": {},
     "output_type": "execute_result"
    }
   ],
   "source": [
    "data_drop['GENRE'].value_counts()[:20]"
   ]
  },
  {
   "cell_type": "code",
   "execution_count": 35,
   "metadata": {},
   "outputs": [
    {
     "data": {
      "text/plain": [
       "['Toona',\n",
       " 'Ginkgo',\n",
       " 'Juglans',\n",
       " 'Cercis',\n",
       " 'Ulmus',\n",
       " 'Magnolia',\n",
       " 'Pterocarya',\n",
       " 'Liriodendron',\n",
       " 'Ailanthus',\n",
       " 'Fagus',\n",
       " 'Cedrus',\n",
       " 'Morus',\n",
       " 'Koelreuteria',\n",
       " 'Ostrya',\n",
       " 'Liquidambar',\n",
       " 'Lagerstroemia',\n",
       " 'Cupressus',\n",
       " 'Ligustrum',\n",
       " 'Catalpa',\n",
       " 'Sorbus',\n",
       " 'Alnus',\n",
       " 'Crataegus',\n",
       " 'Zelkova',\n",
       " 'Chamaecyparis',\n",
       " 'Amelanchier',\n",
       " 'Non spécifié',\n",
       " 'Parrotia',\n",
       " 'Ilex',\n",
       " 'Cornus',\n",
       " 'Gymnocladus',\n",
       " 'Thuja',\n",
       " 'Albizia',\n",
       " 'Castanea',\n",
       " 'Trachycarpus',\n",
       " 'x Cupressocyparis',\n",
       " 'Salix',\n",
       " 'Elaeagnus',\n",
       " 'Picea',\n",
       " 'Melia',\n",
       " 'Diospyros',\n",
       " 'Broussonetia',\n",
       " 'Olea',\n",
       " 'Photinia',\n",
       " 'Metasequoia',\n",
       " 'Ficus',\n",
       " 'Sambucus',\n",
       " 'Abies',\n",
       " 'Cercidiphyllum',\n",
       " 'Cydonia',\n",
       " 'Calocedrus',\n",
       " 'Cladrastis',\n",
       " 'Laburnum',\n",
       " 'Eucalyptus',\n",
       " 'Tetradium',\n",
       " 'Maclura',\n",
       " 'Buxus',\n",
       " 'Sequoiadendron',\n",
       " 'Sequoia',\n",
       " 'Clerodendrum',\n",
       " 'Laurus',\n",
       " 'x Chitalpa',\n",
       " 'Fontanesia',\n",
       " 'Platycladus',\n",
       " 'Mespilus',\n",
       " 'Ehretia',\n",
       " 'Phellodendron',\n",
       " 'Hibiscus',\n",
       " 'Zanthoxylum',\n",
       " 'Larix',\n",
       " 'Eriobotrya',\n",
       " 'Araucaria',\n",
       " 'Phillyrea',\n",
       " 'Davidia',\n",
       " 'Euonymus',\n",
       " 'Tamarix',\n",
       " 'Nothofagus',\n",
       " 'Cephalotaxus',\n",
       " 'Taxodium',\n",
       " 'Firmiana',\n",
       " 'Cotoneaster',\n",
       " 'Cotinus',\n",
       " 'Arbutus',\n",
       " 'Osmanthus',\n",
       " 'Carya',\n",
       " 'Tsuga',\n",
       " 'Punica',\n",
       " 'Cryptomeria',\n",
       " 'Ptelea',\n",
       " 'Torreya',\n",
       " 'Nyssa',\n",
       " 'Juniperus',\n",
       " 'Eucommia',\n",
       " 'Sassafras',\n",
       " 'Syringa',\n",
       " 'Staphylea',\n",
       " 'Viburnum',\n",
       " 'Styrax',\n",
       " 'Pseudotsuga',\n",
       " 'Poncirus',\n",
       " 'Rhamnus',\n",
       " 'Callistemon',\n",
       " 'Acca',\n",
       " 'Rhus',\n",
       " 'Asimina',\n",
       " 'Chimonanthus',\n",
       " 'Hippophae',\n",
       " 'Luma',\n",
       " 'Alangium',\n",
       " 'Cinnamomum',\n",
       " 'Poliothyrsis',\n",
       " 'Cunninghamia',\n",
       " 'Lonicera',\n",
       " 'Sapindus',\n",
       " 'Enkianthus',\n",
       " 'Abelia',\n",
       " 'Sycopsis',\n",
       " 'Ziziphus',\n",
       " 'Buddleja',\n",
       " 'Brachychiton',\n",
       " 'Kalopanax',\n",
       " 'Thujopsis',\n",
       " 'Pistacia',\n",
       " 'Caragana',\n",
       " 'Phoenix',\n",
       " 'Platycarya',\n",
       " 'Euscaphis',\n",
       " 'Maackia',\n",
       " 'Heptacodium',\n",
       " 'Aralia',\n",
       " 'Fremontodendron']"
      ]
     },
     "execution_count": 35,
     "metadata": {},
     "output_type": "execute_result"
    }
   ],
   "source": [
    "top20_genre = data_drop['GENRE'].value_counts().index.tolist()[20:]\n",
    "top20_genre"
   ]
  },
  {
   "cell_type": "code",
   "execution_count": 36,
   "metadata": {},
   "outputs": [
    {
     "name": "stderr",
     "output_type": "stream",
     "text": [
      "/Users/julieG/opt/anaconda3/lib/python3.7/site-packages/ipykernel_launcher.py:1: SettingWithCopyWarning: \n",
      "A value is trying to be set on a copy of a slice from a DataFrame\n",
      "\n",
      "See the caveats in the documentation: http://pandas.pydata.org/pandas-docs/stable/user_guide/indexing.html#returning-a-view-versus-a-copy\n",
      "  \"\"\"Entry point for launching an IPython kernel.\n"
     ]
    }
   ],
   "source": [
    "data_drop['GENRE'][data_drop['GENRE'].isin(top20_genre)] = \"OTHER\""
   ]
  },
  {
   "cell_type": "code",
   "execution_count": 37,
   "metadata": {},
   "outputs": [
    {
     "data": {
      "text/plain": [
       "Platanus     38508\n",
       "Aesculus     20882\n",
       "Tilia        16105\n",
       "OTHER        15324\n",
       "Acer         10810\n",
       "Sophora       9774\n",
       "Prunus        4455\n",
       "Celtis        3427\n",
       "Fraxinus      3414\n",
       "Pyrus         2724\n",
       "Corylus       2717\n",
       "Quercus       2582\n",
       "Populus       2168\n",
       "Pinus         2069\n",
       "Carpinus      1944\n",
       "Robinia       1426\n",
       "Paulownia     1078\n",
       "Malus         1071\n",
       "Gleditsia      974\n",
       "Taxus          962\n",
       "Betula         921\n",
       "Name: GENRE, dtype: int64"
      ]
     },
     "execution_count": 37,
     "metadata": {},
     "output_type": "execute_result"
    }
   ],
   "source": [
    "data_drop['GENRE'].value_counts()"
   ]
  },
  {
   "cell_type": "code",
   "execution_count": 38,
   "metadata": {},
   "outputs": [
    {
     "data": {
      "text/plain": [
       "A     69873\n",
       "JA    36174\n",
       "J     30282\n",
       "M      7006\n",
       "Name: STADEDEVELOPPEMENT, dtype: int64"
      ]
     },
     "execution_count": 38,
     "metadata": {},
     "output_type": "execute_result"
    }
   ],
   "source": [
    "data_drop['STADEDEVELOPPEMENT'].value_counts()"
   ]
  },
  {
   "cell_type": "code",
   "execution_count": 39,
   "metadata": {},
   "outputs": [
    {
     "data": {
      "text/plain": [
       "0.0    143154\n",
       "1.0       181\n",
       "Name: REMARQUABLE, dtype: int64"
      ]
     },
     "execution_count": 39,
     "metadata": {},
     "output_type": "execute_result"
    }
   ],
   "source": [
    "data_drop['REMARQUABLE'].value_counts()"
   ]
  },
  {
   "cell_type": "code",
   "execution_count": 40,
   "metadata": {},
   "outputs": [],
   "source": [
    "data_drop.drop(columns = ['IDEMPLACEMENT'], inplace = True)"
   ]
  },
  {
   "cell_type": "code",
   "execution_count": 41,
   "metadata": {},
   "outputs": [
    {
     "data": {
      "text/plain": [
       "IDBASE                float64\n",
       "DOMANIALITE            object\n",
       "ARRONDISSEMENT         object\n",
       "LIBELLEFRANCAIS        object\n",
       "GENRE                  object\n",
       "CIRCONFERENCEENCM     float64\n",
       "HAUTEUR (m)           float64\n",
       "STADEDEVELOPPEMENT     object\n",
       "REMARQUABLE           float64\n",
       "geo_point_2d           object\n",
       "dtype: object"
      ]
     },
     "execution_count": 41,
     "metadata": {},
     "output_type": "execute_result"
    }
   ],
   "source": [
    "data_drop.dtypes"
   ]
  },
  {
   "cell_type": "code",
   "execution_count": 54,
   "metadata": {},
   "outputs": [
    {
     "data": {
      "text/html": [
       "<div>\n",
       "<style scoped>\n",
       "    .dataframe tbody tr th:only-of-type {\n",
       "        vertical-align: middle;\n",
       "    }\n",
       "\n",
       "    .dataframe tbody tr th {\n",
       "        vertical-align: top;\n",
       "    }\n",
       "\n",
       "    .dataframe thead th {\n",
       "        text-align: right;\n",
       "    }\n",
       "</style>\n",
       "<table border=\"1\" class=\"dataframe\">\n",
       "  <thead>\n",
       "    <tr style=\"text-align: right;\">\n",
       "      <th></th>\n",
       "      <th>IDBASE</th>\n",
       "      <th>DOMANIALITE</th>\n",
       "      <th>ARRONDISSEMENT</th>\n",
       "      <th>LIBELLEFRANCAIS</th>\n",
       "      <th>GENRE</th>\n",
       "      <th>CIRCONFERENCEENCM</th>\n",
       "      <th>HAUTEUR (m)</th>\n",
       "      <th>STADEDEVELOPPEMENT</th>\n",
       "      <th>REMARQUABLE</th>\n",
       "      <th>geo_point_2d</th>\n",
       "    </tr>\n",
       "  </thead>\n",
       "  <tbody>\n",
       "    <tr>\n",
       "      <td>0</td>\n",
       "      <td>2009192.0</td>\n",
       "      <td>Alignement</td>\n",
       "      <td>PARIS 4E ARRDT</td>\n",
       "      <td>Peuplier</td>\n",
       "      <td>Populus</td>\n",
       "      <td>25.0</td>\n",
       "      <td>5.0</td>\n",
       "      <td>J</td>\n",
       "      <td>0.0</td>\n",
       "      <td>48.85148173,2.354487895</td>\n",
       "    </tr>\n",
       "    <tr>\n",
       "      <td>1</td>\n",
       "      <td>111900.0</td>\n",
       "      <td>Jardin</td>\n",
       "      <td>PARIS 20E ARRDT</td>\n",
       "      <td>OTHER</td>\n",
       "      <td>Fraxinus</td>\n",
       "      <td>30.0</td>\n",
       "      <td>5.0</td>\n",
       "      <td>J</td>\n",
       "      <td>0.0</td>\n",
       "      <td>48.8484840426,2.41578924906</td>\n",
       "    </tr>\n",
       "    <tr>\n",
       "      <td>3</td>\n",
       "      <td>208933.0</td>\n",
       "      <td>Alignement</td>\n",
       "      <td>PARIS 15E ARRDT</td>\n",
       "      <td>Marronnier</td>\n",
       "      <td>Aesculus</td>\n",
       "      <td>150.0</td>\n",
       "      <td>10.0</td>\n",
       "      <td>A</td>\n",
       "      <td>0.0</td>\n",
       "      <td>48.8523539904,2.28610910036</td>\n",
       "    </tr>\n",
       "    <tr>\n",
       "      <td>4</td>\n",
       "      <td>224733.0</td>\n",
       "      <td>Alignement</td>\n",
       "      <td>PARIS 8E ARRDT</td>\n",
       "      <td>Platane</td>\n",
       "      <td>Platanus</td>\n",
       "      <td>67.0</td>\n",
       "      <td>8.0</td>\n",
       "      <td>A</td>\n",
       "      <td>0.0</td>\n",
       "      <td>48.8734818781,2.29646123625</td>\n",
       "    </tr>\n",
       "    <tr>\n",
       "      <td>5</td>\n",
       "      <td>2003211.0</td>\n",
       "      <td>Alignement</td>\n",
       "      <td>BOIS DE VINCENNES</td>\n",
       "      <td>OTHER</td>\n",
       "      <td>Malus</td>\n",
       "      <td>25.0</td>\n",
       "      <td>5.0</td>\n",
       "      <td>J</td>\n",
       "      <td>0.0</td>\n",
       "      <td>48.8236992293,2.45805540839</td>\n",
       "    </tr>\n",
       "  </tbody>\n",
       "</table>\n",
       "</div>"
      ],
      "text/plain": [
       "      IDBASE DOMANIALITE     ARRONDISSEMENT LIBELLEFRANCAIS     GENRE  \\\n",
       "0  2009192.0  Alignement     PARIS 4E ARRDT        Peuplier   Populus   \n",
       "1   111900.0      Jardin    PARIS 20E ARRDT           OTHER  Fraxinus   \n",
       "3   208933.0  Alignement    PARIS 15E ARRDT      Marronnier  Aesculus   \n",
       "4   224733.0  Alignement     PARIS 8E ARRDT         Platane  Platanus   \n",
       "5  2003211.0  Alignement  BOIS DE VINCENNES           OTHER     Malus   \n",
       "\n",
       "   CIRCONFERENCEENCM  HAUTEUR (m) STADEDEVELOPPEMENT  REMARQUABLE  \\\n",
       "0               25.0          5.0                  J          0.0   \n",
       "1               30.0          5.0                  J          0.0   \n",
       "3              150.0         10.0                  A          0.0   \n",
       "4               67.0          8.0                  A          0.0   \n",
       "5               25.0          5.0                  J          0.0   \n",
       "\n",
       "                  geo_point_2d  \n",
       "0      48.85148173,2.354487895  \n",
       "1  48.8484840426,2.41578924906  \n",
       "3  48.8523539904,2.28610910036  \n",
       "4  48.8734818781,2.29646123625  \n",
       "5  48.8236992293,2.45805540839  "
      ]
     },
     "execution_count": 54,
     "metadata": {},
     "output_type": "execute_result"
    }
   ],
   "source": [
    "data_drop.head()"
   ]
  },
  {
   "cell_type": "code",
   "execution_count": 42,
   "metadata": {},
   "outputs": [],
   "source": [
    "#object_cols = data_drop.columns.values[data_drop.dtypes == object]\n",
    "data_dummy = pd.get_dummies(data_drop, columns=['DOMANIALITE','ARRONDISSEMENT','LIBELLEFRANCAIS','GENRE','STADEDEVELOPPEMENT'], drop_first=True)"
   ]
  },
  {
   "cell_type": "code",
   "execution_count": 43,
   "metadata": {},
   "outputs": [
    {
     "data": {
      "text/html": [
       "<div>\n",
       "<style scoped>\n",
       "    .dataframe tbody tr th:only-of-type {\n",
       "        vertical-align: middle;\n",
       "    }\n",
       "\n",
       "    .dataframe tbody tr th {\n",
       "        vertical-align: top;\n",
       "    }\n",
       "\n",
       "    .dataframe thead th {\n",
       "        text-align: right;\n",
       "    }\n",
       "</style>\n",
       "<table border=\"1\" class=\"dataframe\">\n",
       "  <thead>\n",
       "    <tr style=\"text-align: right;\">\n",
       "      <th></th>\n",
       "      <th>IDBASE</th>\n",
       "      <th>CIRCONFERENCEENCM</th>\n",
       "      <th>HAUTEUR (m)</th>\n",
       "      <th>REMARQUABLE</th>\n",
       "      <th>geo_point_2d</th>\n",
       "      <th>DOMANIALITE_CIMETIERE</th>\n",
       "      <th>DOMANIALITE_DAC</th>\n",
       "      <th>DOMANIALITE_DASCO</th>\n",
       "      <th>DOMANIALITE_DFPE</th>\n",
       "      <th>DOMANIALITE_DJS</th>\n",
       "      <th>...</th>\n",
       "      <th>GENRE_Prunus</th>\n",
       "      <th>GENRE_Pyrus</th>\n",
       "      <th>GENRE_Quercus</th>\n",
       "      <th>GENRE_Robinia</th>\n",
       "      <th>GENRE_Sophora</th>\n",
       "      <th>GENRE_Taxus</th>\n",
       "      <th>GENRE_Tilia</th>\n",
       "      <th>STADEDEVELOPPEMENT_J</th>\n",
       "      <th>STADEDEVELOPPEMENT_JA</th>\n",
       "      <th>STADEDEVELOPPEMENT_M</th>\n",
       "    </tr>\n",
       "  </thead>\n",
       "  <tbody>\n",
       "    <tr>\n",
       "      <td>0</td>\n",
       "      <td>2009192.0</td>\n",
       "      <td>25.0</td>\n",
       "      <td>5.0</td>\n",
       "      <td>0.0</td>\n",
       "      <td>48.85148173,2.354487895</td>\n",
       "      <td>0</td>\n",
       "      <td>0</td>\n",
       "      <td>0</td>\n",
       "      <td>0</td>\n",
       "      <td>0</td>\n",
       "      <td>...</td>\n",
       "      <td>0</td>\n",
       "      <td>0</td>\n",
       "      <td>0</td>\n",
       "      <td>0</td>\n",
       "      <td>0</td>\n",
       "      <td>0</td>\n",
       "      <td>0</td>\n",
       "      <td>1</td>\n",
       "      <td>0</td>\n",
       "      <td>0</td>\n",
       "    </tr>\n",
       "    <tr>\n",
       "      <td>1</td>\n",
       "      <td>111900.0</td>\n",
       "      <td>30.0</td>\n",
       "      <td>5.0</td>\n",
       "      <td>0.0</td>\n",
       "      <td>48.8484840426,2.41578924906</td>\n",
       "      <td>0</td>\n",
       "      <td>0</td>\n",
       "      <td>0</td>\n",
       "      <td>0</td>\n",
       "      <td>0</td>\n",
       "      <td>...</td>\n",
       "      <td>0</td>\n",
       "      <td>0</td>\n",
       "      <td>0</td>\n",
       "      <td>0</td>\n",
       "      <td>0</td>\n",
       "      <td>0</td>\n",
       "      <td>0</td>\n",
       "      <td>1</td>\n",
       "      <td>0</td>\n",
       "      <td>0</td>\n",
       "    </tr>\n",
       "    <tr>\n",
       "      <td>3</td>\n",
       "      <td>208933.0</td>\n",
       "      <td>150.0</td>\n",
       "      <td>10.0</td>\n",
       "      <td>0.0</td>\n",
       "      <td>48.8523539904,2.28610910036</td>\n",
       "      <td>0</td>\n",
       "      <td>0</td>\n",
       "      <td>0</td>\n",
       "      <td>0</td>\n",
       "      <td>0</td>\n",
       "      <td>...</td>\n",
       "      <td>0</td>\n",
       "      <td>0</td>\n",
       "      <td>0</td>\n",
       "      <td>0</td>\n",
       "      <td>0</td>\n",
       "      <td>0</td>\n",
       "      <td>0</td>\n",
       "      <td>0</td>\n",
       "      <td>0</td>\n",
       "      <td>0</td>\n",
       "    </tr>\n",
       "    <tr>\n",
       "      <td>4</td>\n",
       "      <td>224733.0</td>\n",
       "      <td>67.0</td>\n",
       "      <td>8.0</td>\n",
       "      <td>0.0</td>\n",
       "      <td>48.8734818781,2.29646123625</td>\n",
       "      <td>0</td>\n",
       "      <td>0</td>\n",
       "      <td>0</td>\n",
       "      <td>0</td>\n",
       "      <td>0</td>\n",
       "      <td>...</td>\n",
       "      <td>0</td>\n",
       "      <td>0</td>\n",
       "      <td>0</td>\n",
       "      <td>0</td>\n",
       "      <td>0</td>\n",
       "      <td>0</td>\n",
       "      <td>0</td>\n",
       "      <td>0</td>\n",
       "      <td>0</td>\n",
       "      <td>0</td>\n",
       "    </tr>\n",
       "    <tr>\n",
       "      <td>5</td>\n",
       "      <td>2003211.0</td>\n",
       "      <td>25.0</td>\n",
       "      <td>5.0</td>\n",
       "      <td>0.0</td>\n",
       "      <td>48.8236992293,2.45805540839</td>\n",
       "      <td>0</td>\n",
       "      <td>0</td>\n",
       "      <td>0</td>\n",
       "      <td>0</td>\n",
       "      <td>0</td>\n",
       "      <td>...</td>\n",
       "      <td>0</td>\n",
       "      <td>0</td>\n",
       "      <td>0</td>\n",
       "      <td>0</td>\n",
       "      <td>0</td>\n",
       "      <td>0</td>\n",
       "      <td>0</td>\n",
       "      <td>1</td>\n",
       "      <td>0</td>\n",
       "      <td>0</td>\n",
       "    </tr>\n",
       "  </tbody>\n",
       "</table>\n",
       "<p>5 rows × 79 columns</p>\n",
       "</div>"
      ],
      "text/plain": [
       "      IDBASE  CIRCONFERENCEENCM  HAUTEUR (m)  REMARQUABLE  \\\n",
       "0  2009192.0               25.0          5.0          0.0   \n",
       "1   111900.0               30.0          5.0          0.0   \n",
       "3   208933.0              150.0         10.0          0.0   \n",
       "4   224733.0               67.0          8.0          0.0   \n",
       "5  2003211.0               25.0          5.0          0.0   \n",
       "\n",
       "                  geo_point_2d  DOMANIALITE_CIMETIERE  DOMANIALITE_DAC  \\\n",
       "0      48.85148173,2.354487895                      0                0   \n",
       "1  48.8484840426,2.41578924906                      0                0   \n",
       "3  48.8523539904,2.28610910036                      0                0   \n",
       "4  48.8734818781,2.29646123625                      0                0   \n",
       "5  48.8236992293,2.45805540839                      0                0   \n",
       "\n",
       "   DOMANIALITE_DASCO  DOMANIALITE_DFPE  DOMANIALITE_DJS  ...  GENRE_Prunus  \\\n",
       "0                  0                 0                0  ...             0   \n",
       "1                  0                 0                0  ...             0   \n",
       "3                  0                 0                0  ...             0   \n",
       "4                  0                 0                0  ...             0   \n",
       "5                  0                 0                0  ...             0   \n",
       "\n",
       "   GENRE_Pyrus  GENRE_Quercus  GENRE_Robinia  GENRE_Sophora  GENRE_Taxus  \\\n",
       "0            0              0              0              0            0   \n",
       "1            0              0              0              0            0   \n",
       "3            0              0              0              0            0   \n",
       "4            0              0              0              0            0   \n",
       "5            0              0              0              0            0   \n",
       "\n",
       "   GENRE_Tilia  STADEDEVELOPPEMENT_J  STADEDEVELOPPEMENT_JA  \\\n",
       "0            0                     1                      0   \n",
       "1            0                     1                      0   \n",
       "3            0                     0                      0   \n",
       "4            0                     0                      0   \n",
       "5            0                     1                      0   \n",
       "\n",
       "   STADEDEVELOPPEMENT_M  \n",
       "0                     0  \n",
       "1                     0  \n",
       "3                     0  \n",
       "4                     0  \n",
       "5                     0  \n",
       "\n",
       "[5 rows x 79 columns]"
      ]
     },
     "execution_count": 43,
     "metadata": {},
     "output_type": "execute_result"
    }
   ],
   "source": [
    "data_dummy.head()"
   ]
  },
  {
   "cell_type": "code",
   "execution_count": 44,
   "metadata": {},
   "outputs": [
    {
     "data": {
      "text/plain": [
       "IDBASE                   float64\n",
       "CIRCONFERENCEENCM        float64\n",
       "HAUTEUR (m)              float64\n",
       "REMARQUABLE              float64\n",
       "geo_point_2d              object\n",
       "                          ...   \n",
       "GENRE_Taxus                uint8\n",
       "GENRE_Tilia                uint8\n",
       "STADEDEVELOPPEMENT_J       uint8\n",
       "STADEDEVELOPPEMENT_JA      uint8\n",
       "STADEDEVELOPPEMENT_M       uint8\n",
       "Length: 79, dtype: object"
      ]
     },
     "execution_count": 44,
     "metadata": {},
     "output_type": "execute_result"
    }
   ],
   "source": [
    "data_dummy.dtypes"
   ]
  },
  {
   "cell_type": "code",
   "execution_count": 53,
   "metadata": {},
   "outputs": [
    {
     "data": {
      "text/html": [
       "<div>\n",
       "<style scoped>\n",
       "    .dataframe tbody tr th:only-of-type {\n",
       "        vertical-align: middle;\n",
       "    }\n",
       "\n",
       "    .dataframe tbody tr th {\n",
       "        vertical-align: top;\n",
       "    }\n",
       "\n",
       "    .dataframe thead th {\n",
       "        text-align: right;\n",
       "    }\n",
       "</style>\n",
       "<table border=\"1\" class=\"dataframe\">\n",
       "  <thead>\n",
       "    <tr style=\"text-align: right;\">\n",
       "      <th></th>\n",
       "      <th>IDBASE</th>\n",
       "      <th>CIRCONFERENCEENCM</th>\n",
       "      <th>HAUTEUR (m)</th>\n",
       "      <th>REMARQUABLE</th>\n",
       "      <th>geo_point_2d</th>\n",
       "    </tr>\n",
       "  </thead>\n",
       "  <tbody>\n",
       "    <tr>\n",
       "      <td>0</td>\n",
       "      <td>2009192.0</td>\n",
       "      <td>25.0</td>\n",
       "      <td>5.0</td>\n",
       "      <td>0.0</td>\n",
       "      <td>48.85148173,2.354487895</td>\n",
       "    </tr>\n",
       "    <tr>\n",
       "      <td>1</td>\n",
       "      <td>111900.0</td>\n",
       "      <td>30.0</td>\n",
       "      <td>5.0</td>\n",
       "      <td>0.0</td>\n",
       "      <td>48.8484840426,2.41578924906</td>\n",
       "    </tr>\n",
       "    <tr>\n",
       "      <td>3</td>\n",
       "      <td>208933.0</td>\n",
       "      <td>150.0</td>\n",
       "      <td>10.0</td>\n",
       "      <td>0.0</td>\n",
       "      <td>48.8523539904,2.28610910036</td>\n",
       "    </tr>\n",
       "    <tr>\n",
       "      <td>4</td>\n",
       "      <td>224733.0</td>\n",
       "      <td>67.0</td>\n",
       "      <td>8.0</td>\n",
       "      <td>0.0</td>\n",
       "      <td>48.8734818781,2.29646123625</td>\n",
       "    </tr>\n",
       "    <tr>\n",
       "      <td>5</td>\n",
       "      <td>2003211.0</td>\n",
       "      <td>25.0</td>\n",
       "      <td>5.0</td>\n",
       "      <td>0.0</td>\n",
       "      <td>48.8236992293,2.45805540839</td>\n",
       "    </tr>\n",
       "    <tr>\n",
       "      <td>...</td>\n",
       "      <td>...</td>\n",
       "      <td>...</td>\n",
       "      <td>...</td>\n",
       "      <td>...</td>\n",
       "      <td>...</td>\n",
       "    </tr>\n",
       "    <tr>\n",
       "      <td>204127</td>\n",
       "      <td>236944.0</td>\n",
       "      <td>40.0</td>\n",
       "      <td>6.0</td>\n",
       "      <td>0.0</td>\n",
       "      <td>48.8558457104,2.34092534027</td>\n",
       "    </tr>\n",
       "    <tr>\n",
       "      <td>204128</td>\n",
       "      <td>243074.0</td>\n",
       "      <td>150.0</td>\n",
       "      <td>15.0</td>\n",
       "      <td>0.0</td>\n",
       "      <td>48.8743197345,2.37750236537</td>\n",
       "    </tr>\n",
       "    <tr>\n",
       "      <td>204129</td>\n",
       "      <td>106203.0</td>\n",
       "      <td>110.0</td>\n",
       "      <td>11.0</td>\n",
       "      <td>0.0</td>\n",
       "      <td>48.8540221889,2.30211517789</td>\n",
       "    </tr>\n",
       "    <tr>\n",
       "      <td>204131</td>\n",
       "      <td>160498.0</td>\n",
       "      <td>165.0</td>\n",
       "      <td>10.0</td>\n",
       "      <td>0.0</td>\n",
       "      <td>48.8372086759,2.32732312804</td>\n",
       "    </tr>\n",
       "    <tr>\n",
       "      <td>204132</td>\n",
       "      <td>281515.0</td>\n",
       "      <td>122.0</td>\n",
       "      <td>15.0</td>\n",
       "      <td>0.0</td>\n",
       "      <td>48.864602924,2.31241180239</td>\n",
       "    </tr>\n",
       "  </tbody>\n",
       "</table>\n",
       "<p>143335 rows × 5 columns</p>\n",
       "</div>"
      ],
      "text/plain": [
       "           IDBASE  CIRCONFERENCEENCM  HAUTEUR (m)  REMARQUABLE  \\\n",
       "0       2009192.0               25.0          5.0          0.0   \n",
       "1        111900.0               30.0          5.0          0.0   \n",
       "3        208933.0              150.0         10.0          0.0   \n",
       "4        224733.0               67.0          8.0          0.0   \n",
       "5       2003211.0               25.0          5.0          0.0   \n",
       "...           ...                ...          ...          ...   \n",
       "204127   236944.0               40.0          6.0          0.0   \n",
       "204128   243074.0              150.0         15.0          0.0   \n",
       "204129   106203.0              110.0         11.0          0.0   \n",
       "204131   160498.0              165.0         10.0          0.0   \n",
       "204132   281515.0              122.0         15.0          0.0   \n",
       "\n",
       "                       geo_point_2d  \n",
       "0           48.85148173,2.354487895  \n",
       "1       48.8484840426,2.41578924906  \n",
       "3       48.8523539904,2.28610910036  \n",
       "4       48.8734818781,2.29646123625  \n",
       "5       48.8236992293,2.45805540839  \n",
       "...                             ...  \n",
       "204127  48.8558457104,2.34092534027  \n",
       "204128  48.8743197345,2.37750236537  \n",
       "204129  48.8540221889,2.30211517789  \n",
       "204131  48.8372086759,2.32732312804  \n",
       "204132   48.864602924,2.31241180239  \n",
       "\n",
       "[143335 rows x 5 columns]"
      ]
     },
     "execution_count": 53,
     "metadata": {},
     "output_type": "execute_result"
    }
   ],
   "source": [
    "data_dummy[data_dummy.columns[0:5]]"
   ]
  },
  {
   "cell_type": "code",
   "execution_count": 58,
   "metadata": {},
   "outputs": [],
   "source": [
    "data_dummy.drop(columns='geo_point_2d', inplace=True)"
   ]
  },
  {
   "cell_type": "code",
   "execution_count": 59,
   "metadata": {},
   "outputs": [],
   "source": [
    "from sklearn.preprocessing import StandardScaler\n",
    "\n",
    "scaler = StandardScaler()\n",
    "scaler.fit(data_dummy[data_dummy.columns[1:]])\n",
    "\n",
    "data_scale = pd.DataFrame(scaler.transform(data_dummy[data_dummy.columns[1:]]), columns=data_dummy.columns[1:])"
   ]
  },
  {
   "cell_type": "code",
   "execution_count": 47,
   "metadata": {},
   "outputs": [],
   "source": [
    "#data_scale.head()"
   ]
  },
  {
   "cell_type": "code",
   "execution_count": 48,
   "metadata": {},
   "outputs": [],
   "source": [
    "#model = KMeans()\n",
    "#visualizer = KElbowVisualizer(model, k=(2,12), metric='silhouette')\n",
    "#visualizer.fit(data_scale)\n",
    "#visualizer.poof()"
   ]
  },
  {
   "cell_type": "code",
   "execution_count": 49,
   "metadata": {},
   "outputs": [],
   "source": [
    "#data_drop.drop(columns = ['IDBASE'], inplace=True)"
   ]
  },
  {
   "cell_type": "code",
   "execution_count": 50,
   "metadata": {},
   "outputs": [],
   "source": [
    "#data_drop.head()"
   ]
  },
  {
   "cell_type": "code",
   "execution_count": 61,
   "metadata": {},
   "outputs": [
    {
     "data": {
      "text/html": [
       "<div>\n",
       "<style scoped>\n",
       "    .dataframe tbody tr th:only-of-type {\n",
       "        vertical-align: middle;\n",
       "    }\n",
       "\n",
       "    .dataframe tbody tr th {\n",
       "        vertical-align: top;\n",
       "    }\n",
       "\n",
       "    .dataframe thead th {\n",
       "        text-align: right;\n",
       "    }\n",
       "</style>\n",
       "<table border=\"1\" class=\"dataframe\">\n",
       "  <thead>\n",
       "    <tr style=\"text-align: right;\">\n",
       "      <th></th>\n",
       "      <th>CIRCONFERENCEENCM</th>\n",
       "      <th>HAUTEUR (m)</th>\n",
       "      <th>REMARQUABLE</th>\n",
       "      <th>DOMANIALITE_CIMETIERE</th>\n",
       "      <th>DOMANIALITE_DAC</th>\n",
       "      <th>DOMANIALITE_DASCO</th>\n",
       "      <th>DOMANIALITE_DFPE</th>\n",
       "      <th>DOMANIALITE_DJS</th>\n",
       "      <th>DOMANIALITE_Jardin</th>\n",
       "      <th>DOMANIALITE_PERIPHERIQUE</th>\n",
       "      <th>...</th>\n",
       "      <th>GENRE_Prunus</th>\n",
       "      <th>GENRE_Pyrus</th>\n",
       "      <th>GENRE_Quercus</th>\n",
       "      <th>GENRE_Robinia</th>\n",
       "      <th>GENRE_Sophora</th>\n",
       "      <th>GENRE_Taxus</th>\n",
       "      <th>GENRE_Tilia</th>\n",
       "      <th>STADEDEVELOPPEMENT_J</th>\n",
       "      <th>STADEDEVELOPPEMENT_JA</th>\n",
       "      <th>STADEDEVELOPPEMENT_M</th>\n",
       "    </tr>\n",
       "  </thead>\n",
       "  <tbody>\n",
       "    <tr>\n",
       "      <td>0</td>\n",
       "      <td>-0.079549</td>\n",
       "      <td>-0.005240</td>\n",
       "      <td>-0.035558</td>\n",
       "      <td>-0.307182</td>\n",
       "      <td>-0.010566</td>\n",
       "      <td>-0.200341</td>\n",
       "      <td>-0.090091</td>\n",
       "      <td>-0.145687</td>\n",
       "      <td>-0.412132</td>\n",
       "      <td>-0.12742</td>\n",
       "      <td>...</td>\n",
       "      <td>-0.179103</td>\n",
       "      <td>-0.139185</td>\n",
       "      <td>-0.135441</td>\n",
       "      <td>-0.100243</td>\n",
       "      <td>-0.270518</td>\n",
       "      <td>-0.0822</td>\n",
       "      <td>-0.355783</td>\n",
       "      <td>1.932185</td>\n",
       "      <td>-0.581005</td>\n",
       "      <td>-0.226694</td>\n",
       "    </tr>\n",
       "    <tr>\n",
       "      <td>1</td>\n",
       "      <td>-0.074341</td>\n",
       "      <td>-0.005240</td>\n",
       "      <td>-0.035558</td>\n",
       "      <td>-0.307182</td>\n",
       "      <td>-0.010566</td>\n",
       "      <td>-0.200341</td>\n",
       "      <td>-0.090091</td>\n",
       "      <td>-0.145687</td>\n",
       "      <td>2.426410</td>\n",
       "      <td>-0.12742</td>\n",
       "      <td>...</td>\n",
       "      <td>-0.179103</td>\n",
       "      <td>-0.139185</td>\n",
       "      <td>-0.135441</td>\n",
       "      <td>-0.100243</td>\n",
       "      <td>-0.270518</td>\n",
       "      <td>-0.0822</td>\n",
       "      <td>-0.355783</td>\n",
       "      <td>1.932185</td>\n",
       "      <td>-0.581005</td>\n",
       "      <td>-0.226694</td>\n",
       "    </tr>\n",
       "    <tr>\n",
       "      <td>2</td>\n",
       "      <td>0.050634</td>\n",
       "      <td>-0.003094</td>\n",
       "      <td>-0.035558</td>\n",
       "      <td>-0.307182</td>\n",
       "      <td>-0.010566</td>\n",
       "      <td>-0.200341</td>\n",
       "      <td>-0.090091</td>\n",
       "      <td>-0.145687</td>\n",
       "      <td>-0.412132</td>\n",
       "      <td>-0.12742</td>\n",
       "      <td>...</td>\n",
       "      <td>-0.179103</td>\n",
       "      <td>-0.139185</td>\n",
       "      <td>-0.135441</td>\n",
       "      <td>-0.100243</td>\n",
       "      <td>-0.270518</td>\n",
       "      <td>-0.0822</td>\n",
       "      <td>-0.355783</td>\n",
       "      <td>-0.517549</td>\n",
       "      <td>-0.581005</td>\n",
       "      <td>-0.226694</td>\n",
       "    </tr>\n",
       "    <tr>\n",
       "      <td>3</td>\n",
       "      <td>-0.035807</td>\n",
       "      <td>-0.003952</td>\n",
       "      <td>-0.035558</td>\n",
       "      <td>-0.307182</td>\n",
       "      <td>-0.010566</td>\n",
       "      <td>-0.200341</td>\n",
       "      <td>-0.090091</td>\n",
       "      <td>-0.145687</td>\n",
       "      <td>-0.412132</td>\n",
       "      <td>-0.12742</td>\n",
       "      <td>...</td>\n",
       "      <td>-0.179103</td>\n",
       "      <td>-0.139185</td>\n",
       "      <td>-0.135441</td>\n",
       "      <td>-0.100243</td>\n",
       "      <td>-0.270518</td>\n",
       "      <td>-0.0822</td>\n",
       "      <td>-0.355783</td>\n",
       "      <td>-0.517549</td>\n",
       "      <td>-0.581005</td>\n",
       "      <td>-0.226694</td>\n",
       "    </tr>\n",
       "    <tr>\n",
       "      <td>4</td>\n",
       "      <td>-0.079549</td>\n",
       "      <td>-0.005240</td>\n",
       "      <td>-0.035558</td>\n",
       "      <td>-0.307182</td>\n",
       "      <td>-0.010566</td>\n",
       "      <td>-0.200341</td>\n",
       "      <td>-0.090091</td>\n",
       "      <td>-0.145687</td>\n",
       "      <td>-0.412132</td>\n",
       "      <td>-0.12742</td>\n",
       "      <td>...</td>\n",
       "      <td>-0.179103</td>\n",
       "      <td>-0.139185</td>\n",
       "      <td>-0.135441</td>\n",
       "      <td>-0.100243</td>\n",
       "      <td>-0.270518</td>\n",
       "      <td>-0.0822</td>\n",
       "      <td>-0.355783</td>\n",
       "      <td>1.932185</td>\n",
       "      <td>-0.581005</td>\n",
       "      <td>-0.226694</td>\n",
       "    </tr>\n",
       "  </tbody>\n",
       "</table>\n",
       "<p>5 rows × 77 columns</p>\n",
       "</div>"
      ],
      "text/plain": [
       "   CIRCONFERENCEENCM  HAUTEUR (m)  REMARQUABLE  DOMANIALITE_CIMETIERE  \\\n",
       "0          -0.079549    -0.005240    -0.035558              -0.307182   \n",
       "1          -0.074341    -0.005240    -0.035558              -0.307182   \n",
       "2           0.050634    -0.003094    -0.035558              -0.307182   \n",
       "3          -0.035807    -0.003952    -0.035558              -0.307182   \n",
       "4          -0.079549    -0.005240    -0.035558              -0.307182   \n",
       "\n",
       "   DOMANIALITE_DAC  DOMANIALITE_DASCO  DOMANIALITE_DFPE  DOMANIALITE_DJS  \\\n",
       "0        -0.010566          -0.200341         -0.090091        -0.145687   \n",
       "1        -0.010566          -0.200341         -0.090091        -0.145687   \n",
       "2        -0.010566          -0.200341         -0.090091        -0.145687   \n",
       "3        -0.010566          -0.200341         -0.090091        -0.145687   \n",
       "4        -0.010566          -0.200341         -0.090091        -0.145687   \n",
       "\n",
       "   DOMANIALITE_Jardin  DOMANIALITE_PERIPHERIQUE  ...  GENRE_Prunus  \\\n",
       "0           -0.412132                  -0.12742  ...     -0.179103   \n",
       "1            2.426410                  -0.12742  ...     -0.179103   \n",
       "2           -0.412132                  -0.12742  ...     -0.179103   \n",
       "3           -0.412132                  -0.12742  ...     -0.179103   \n",
       "4           -0.412132                  -0.12742  ...     -0.179103   \n",
       "\n",
       "   GENRE_Pyrus  GENRE_Quercus  GENRE_Robinia  GENRE_Sophora  GENRE_Taxus  \\\n",
       "0    -0.139185      -0.135441      -0.100243      -0.270518      -0.0822   \n",
       "1    -0.139185      -0.135441      -0.100243      -0.270518      -0.0822   \n",
       "2    -0.139185      -0.135441      -0.100243      -0.270518      -0.0822   \n",
       "3    -0.139185      -0.135441      -0.100243      -0.270518      -0.0822   \n",
       "4    -0.139185      -0.135441      -0.100243      -0.270518      -0.0822   \n",
       "\n",
       "   GENRE_Tilia  STADEDEVELOPPEMENT_J  STADEDEVELOPPEMENT_JA  \\\n",
       "0    -0.355783              1.932185              -0.581005   \n",
       "1    -0.355783              1.932185              -0.581005   \n",
       "2    -0.355783             -0.517549              -0.581005   \n",
       "3    -0.355783             -0.517549              -0.581005   \n",
       "4    -0.355783              1.932185              -0.581005   \n",
       "\n",
       "   STADEDEVELOPPEMENT_M  \n",
       "0             -0.226694  \n",
       "1             -0.226694  \n",
       "2             -0.226694  \n",
       "3             -0.226694  \n",
       "4             -0.226694  \n",
       "\n",
       "[5 rows x 77 columns]"
      ]
     },
     "execution_count": 61,
     "metadata": {},
     "output_type": "execute_result"
    }
   ],
   "source": [
    "data_scale.head()"
   ]
  },
  {
   "cell_type": "code",
   "execution_count": null,
   "metadata": {},
   "outputs": [],
   "source": [
    "data_scale.drop(columns = ['Cluster2'], inplace=True)"
   ]
  },
  {
   "cell_type": "code",
   "execution_count": 60,
   "metadata": {},
   "outputs": [
    {
     "data": {
      "text/plain": [
       "KMeans(algorithm='auto', copy_x=True, init='k-means++', max_iter=300,\n",
       "       n_clusters=5, n_init=10, n_jobs=None, precompute_distances='auto',\n",
       "       random_state=None, tol=0.0001, verbose=0)"
      ]
     },
     "execution_count": 60,
     "metadata": {},
     "output_type": "execute_result"
    }
   ],
   "source": [
    "model = KMeans()\n",
    "model.fit(data_scale)\n",
    "model_2 = KMeans(n_clusters = 5)\n",
    "model_2.fit(data_scale)\n"
   ]
  },
  {
   "cell_type": "code",
   "execution_count": null,
   "metadata": {},
   "outputs": [],
   "source": []
  },
  {
   "cell_type": "code",
   "execution_count": null,
   "metadata": {},
   "outputs": [],
   "source": [
    "#data_scale['Cluster2'] = model_2.predict(data_scale)"
   ]
  },
  {
   "cell_type": "code",
   "execution_count": 63,
   "metadata": {},
   "outputs": [],
   "source": [
    "data_drop['Cluster2'] = model_2.predict(data_scale)"
   ]
  },
  {
   "cell_type": "code",
   "execution_count": 62,
   "metadata": {},
   "outputs": [],
   "source": [
    "data_drop['Cluster'] = model.predict(data_scale)"
   ]
  },
  {
   "cell_type": "code",
   "execution_count": 65,
   "metadata": {},
   "outputs": [],
   "source": [
    "data_drop.to_csv('data_clusters.csv')"
   ]
  },
  {
   "cell_type": "code",
   "execution_count": 64,
   "metadata": {},
   "outputs": [
    {
     "data": {
      "text/html": [
       "<div>\n",
       "<style scoped>\n",
       "    .dataframe tbody tr th:only-of-type {\n",
       "        vertical-align: middle;\n",
       "    }\n",
       "\n",
       "    .dataframe tbody tr th {\n",
       "        vertical-align: top;\n",
       "    }\n",
       "\n",
       "    .dataframe thead th {\n",
       "        text-align: right;\n",
       "    }\n",
       "</style>\n",
       "<table border=\"1\" class=\"dataframe\">\n",
       "  <thead>\n",
       "    <tr style=\"text-align: right;\">\n",
       "      <th></th>\n",
       "      <th>IDBASE</th>\n",
       "      <th>DOMANIALITE</th>\n",
       "      <th>ARRONDISSEMENT</th>\n",
       "      <th>LIBELLEFRANCAIS</th>\n",
       "      <th>GENRE</th>\n",
       "      <th>CIRCONFERENCEENCM</th>\n",
       "      <th>HAUTEUR (m)</th>\n",
       "      <th>STADEDEVELOPPEMENT</th>\n",
       "      <th>REMARQUABLE</th>\n",
       "      <th>geo_point_2d</th>\n",
       "      <th>Cluster</th>\n",
       "      <th>Cluster2</th>\n",
       "    </tr>\n",
       "  </thead>\n",
       "  <tbody>\n",
       "    <tr>\n",
       "      <td>0</td>\n",
       "      <td>2009192.0</td>\n",
       "      <td>Alignement</td>\n",
       "      <td>PARIS 4E ARRDT</td>\n",
       "      <td>Peuplier</td>\n",
       "      <td>Populus</td>\n",
       "      <td>25.0</td>\n",
       "      <td>5.0</td>\n",
       "      <td>J</td>\n",
       "      <td>0.0</td>\n",
       "      <td>48.85148173,2.354487895</td>\n",
       "      <td>7</td>\n",
       "      <td>0</td>\n",
       "    </tr>\n",
       "    <tr>\n",
       "      <td>1</td>\n",
       "      <td>111900.0</td>\n",
       "      <td>Jardin</td>\n",
       "      <td>PARIS 20E ARRDT</td>\n",
       "      <td>OTHER</td>\n",
       "      <td>Fraxinus</td>\n",
       "      <td>30.0</td>\n",
       "      <td>5.0</td>\n",
       "      <td>J</td>\n",
       "      <td>0.0</td>\n",
       "      <td>48.8484840426,2.41578924906</td>\n",
       "      <td>3</td>\n",
       "      <td>0</td>\n",
       "    </tr>\n",
       "    <tr>\n",
       "      <td>3</td>\n",
       "      <td>208933.0</td>\n",
       "      <td>Alignement</td>\n",
       "      <td>PARIS 15E ARRDT</td>\n",
       "      <td>Marronnier</td>\n",
       "      <td>Aesculus</td>\n",
       "      <td>150.0</td>\n",
       "      <td>10.0</td>\n",
       "      <td>A</td>\n",
       "      <td>0.0</td>\n",
       "      <td>48.8523539904,2.28610910036</td>\n",
       "      <td>0</td>\n",
       "      <td>2</td>\n",
       "    </tr>\n",
       "    <tr>\n",
       "      <td>4</td>\n",
       "      <td>224733.0</td>\n",
       "      <td>Alignement</td>\n",
       "      <td>PARIS 8E ARRDT</td>\n",
       "      <td>Platane</td>\n",
       "      <td>Platanus</td>\n",
       "      <td>67.0</td>\n",
       "      <td>8.0</td>\n",
       "      <td>A</td>\n",
       "      <td>0.0</td>\n",
       "      <td>48.8734818781,2.29646123625</td>\n",
       "      <td>7</td>\n",
       "      <td>0</td>\n",
       "    </tr>\n",
       "    <tr>\n",
       "      <td>5</td>\n",
       "      <td>2003211.0</td>\n",
       "      <td>Alignement</td>\n",
       "      <td>BOIS DE VINCENNES</td>\n",
       "      <td>OTHER</td>\n",
       "      <td>Malus</td>\n",
       "      <td>25.0</td>\n",
       "      <td>5.0</td>\n",
       "      <td>J</td>\n",
       "      <td>0.0</td>\n",
       "      <td>48.8236992293,2.45805540839</td>\n",
       "      <td>3</td>\n",
       "      <td>0</td>\n",
       "    </tr>\n",
       "  </tbody>\n",
       "</table>\n",
       "</div>"
      ],
      "text/plain": [
       "      IDBASE DOMANIALITE     ARRONDISSEMENT LIBELLEFRANCAIS     GENRE  \\\n",
       "0  2009192.0  Alignement     PARIS 4E ARRDT        Peuplier   Populus   \n",
       "1   111900.0      Jardin    PARIS 20E ARRDT           OTHER  Fraxinus   \n",
       "3   208933.0  Alignement    PARIS 15E ARRDT      Marronnier  Aesculus   \n",
       "4   224733.0  Alignement     PARIS 8E ARRDT         Platane  Platanus   \n",
       "5  2003211.0  Alignement  BOIS DE VINCENNES           OTHER     Malus   \n",
       "\n",
       "   CIRCONFERENCEENCM  HAUTEUR (m) STADEDEVELOPPEMENT  REMARQUABLE  \\\n",
       "0               25.0          5.0                  J          0.0   \n",
       "1               30.0          5.0                  J          0.0   \n",
       "3              150.0         10.0                  A          0.0   \n",
       "4               67.0          8.0                  A          0.0   \n",
       "5               25.0          5.0                  J          0.0   \n",
       "\n",
       "                  geo_point_2d  Cluster  Cluster2  \n",
       "0      48.85148173,2.354487895        7         0  \n",
       "1  48.8484840426,2.41578924906        3         0  \n",
       "3  48.8523539904,2.28610910036        0         2  \n",
       "4  48.8734818781,2.29646123625        7         0  \n",
       "5  48.8236992293,2.45805540839        3         0  "
      ]
     },
     "execution_count": 64,
     "metadata": {},
     "output_type": "execute_result"
    }
   ],
   "source": [
    "data_drop.head()"
   ]
  },
  {
   "cell_type": "code",
   "execution_count": null,
   "metadata": {},
   "outputs": [],
   "source": [
    "#model.fit(data_scale)\n",
    "#data_scale['Cluster'] = model.predict(data_scale)\n",
    "#data_drop['Cluster'] = model.predict(data_scale)\n",
    "#sns.pairplot(data_scale, hue='Cluster', vars=data_scale.columns[:-1])"
   ]
  },
  {
   "cell_type": "code",
   "execution_count": null,
   "metadata": {},
   "outputs": [],
   "source": [
    "#data_scale['Cluster'] = model.predict(data_scale)"
   ]
  },
  {
   "cell_type": "code",
   "execution_count": null,
   "metadata": {},
   "outputs": [],
   "source": [
    "#data_drop['Cluster'] = model.predict(data_scale)"
   ]
  },
  {
   "cell_type": "code",
   "execution_count": 66,
   "metadata": {},
   "outputs": [],
   "source": [
    "pca = PCA()\n",
    "pca.fit(data_scale)\n",
    "pca_x = pca.transform(data_scale)"
   ]
  },
  {
   "cell_type": "code",
   "execution_count": 67,
   "metadata": {},
   "outputs": [
    {
     "ename": "KeyError",
     "evalue": "'Cluster'",
     "output_type": "error",
     "traceback": [
      "\u001b[0;31m---------------------------------------------------------------------------\u001b[0m",
      "\u001b[0;31mKeyError\u001b[0m                                  Traceback (most recent call last)",
      "\u001b[0;32m~/opt/anaconda3/lib/python3.7/site-packages/pandas/core/indexes/base.py\u001b[0m in \u001b[0;36mget_loc\u001b[0;34m(self, key, method, tolerance)\u001b[0m\n\u001b[1;32m   2896\u001b[0m             \u001b[0;32mtry\u001b[0m\u001b[0;34m:\u001b[0m\u001b[0;34m\u001b[0m\u001b[0;34m\u001b[0m\u001b[0m\n\u001b[0;32m-> 2897\u001b[0;31m                 \u001b[0;32mreturn\u001b[0m \u001b[0mself\u001b[0m\u001b[0;34m.\u001b[0m\u001b[0m_engine\u001b[0m\u001b[0;34m.\u001b[0m\u001b[0mget_loc\u001b[0m\u001b[0;34m(\u001b[0m\u001b[0mkey\u001b[0m\u001b[0;34m)\u001b[0m\u001b[0;34m\u001b[0m\u001b[0;34m\u001b[0m\u001b[0m\n\u001b[0m\u001b[1;32m   2898\u001b[0m             \u001b[0;32mexcept\u001b[0m \u001b[0mKeyError\u001b[0m\u001b[0;34m:\u001b[0m\u001b[0;34m\u001b[0m\u001b[0;34m\u001b[0m\u001b[0m\n",
      "\u001b[0;32mpandas/_libs/index.pyx\u001b[0m in \u001b[0;36mpandas._libs.index.IndexEngine.get_loc\u001b[0;34m()\u001b[0m\n",
      "\u001b[0;32mpandas/_libs/index.pyx\u001b[0m in \u001b[0;36mpandas._libs.index.IndexEngine.get_loc\u001b[0;34m()\u001b[0m\n",
      "\u001b[0;32mpandas/_libs/hashtable_class_helper.pxi\u001b[0m in \u001b[0;36mpandas._libs.hashtable.PyObjectHashTable.get_item\u001b[0;34m()\u001b[0m\n",
      "\u001b[0;32mpandas/_libs/hashtable_class_helper.pxi\u001b[0m in \u001b[0;36mpandas._libs.hashtable.PyObjectHashTable.get_item\u001b[0;34m()\u001b[0m\n",
      "\u001b[0;31mKeyError\u001b[0m: 'Cluster'",
      "\nDuring handling of the above exception, another exception occurred:\n",
      "\u001b[0;31mKeyError\u001b[0m                                  Traceback (most recent call last)",
      "\u001b[0;32m<ipython-input-67-97d6332037b5>\u001b[0m in \u001b[0;36m<module>\u001b[0;34m\u001b[0m\n\u001b[1;32m      1\u001b[0m \u001b[0mdf\u001b[0m \u001b[0;34m=\u001b[0m \u001b[0mpd\u001b[0m\u001b[0;34m.\u001b[0m\u001b[0mDataFrame\u001b[0m\u001b[0;34m(\u001b[0m\u001b[0;34m[\u001b[0m\u001b[0mpca_x\u001b[0m\u001b[0;34m[\u001b[0m\u001b[0;34m:\u001b[0m\u001b[0;34m,\u001b[0m \u001b[0;36m0\u001b[0m\u001b[0;34m]\u001b[0m\u001b[0;34m,\u001b[0m \u001b[0mpca_x\u001b[0m\u001b[0;34m[\u001b[0m\u001b[0;34m:\u001b[0m\u001b[0;34m,\u001b[0m \u001b[0;36m1\u001b[0m\u001b[0;34m]\u001b[0m\u001b[0;34m]\u001b[0m\u001b[0;34m)\u001b[0m\u001b[0;34m.\u001b[0m\u001b[0mT\u001b[0m\u001b[0;34m\u001b[0m\u001b[0;34m\u001b[0m\u001b[0m\n\u001b[1;32m      2\u001b[0m \u001b[0mdf\u001b[0m\u001b[0;34m.\u001b[0m\u001b[0mcolumns\u001b[0m \u001b[0;34m=\u001b[0m \u001b[0;34m[\u001b[0m\u001b[0;34m'PC1'\u001b[0m\u001b[0;34m,\u001b[0m \u001b[0;34m'PC2'\u001b[0m\u001b[0;34m]\u001b[0m\u001b[0;34m\u001b[0m\u001b[0;34m\u001b[0m\u001b[0m\n\u001b[0;32m----> 3\u001b[0;31m \u001b[0mdf\u001b[0m \u001b[0;34m=\u001b[0m \u001b[0mpd\u001b[0m\u001b[0;34m.\u001b[0m\u001b[0mconcat\u001b[0m\u001b[0;34m(\u001b[0m\u001b[0;34m[\u001b[0m\u001b[0mdf\u001b[0m\u001b[0;34m,\u001b[0m \u001b[0mdata_scale\u001b[0m\u001b[0;34m[\u001b[0m\u001b[0;34m'Cluster'\u001b[0m\u001b[0;34m]\u001b[0m\u001b[0;34m]\u001b[0m\u001b[0;34m,\u001b[0m \u001b[0maxis\u001b[0m\u001b[0;34m=\u001b[0m\u001b[0;36m1\u001b[0m\u001b[0;34m)\u001b[0m\u001b[0;34m\u001b[0m\u001b[0;34m\u001b[0m\u001b[0m\n\u001b[0m\u001b[1;32m      4\u001b[0m \u001b[0mfig\u001b[0m \u001b[0;34m=\u001b[0m \u001b[0msns\u001b[0m\u001b[0;34m.\u001b[0m\u001b[0mlmplot\u001b[0m\u001b[0;34m(\u001b[0m\u001b[0;34m'PC1'\u001b[0m\u001b[0;34m,\u001b[0m \u001b[0;34m'PC2'\u001b[0m\u001b[0;34m,\u001b[0m \u001b[0mdata\u001b[0m\u001b[0;34m=\u001b[0m\u001b[0mdf\u001b[0m\u001b[0;34m,\u001b[0m \u001b[0mhue\u001b[0m\u001b[0;34m=\u001b[0m\u001b[0;34m'Cluster'\u001b[0m\u001b[0;34m,\u001b[0m \u001b[0mfit_reg\u001b[0m\u001b[0;34m=\u001b[0m\u001b[0;32mFalse\u001b[0m\u001b[0;34m)\u001b[0m\u001b[0;34m\u001b[0m\u001b[0;34m\u001b[0m\u001b[0m\n",
      "\u001b[0;32m~/opt/anaconda3/lib/python3.7/site-packages/pandas/core/frame.py\u001b[0m in \u001b[0;36m__getitem__\u001b[0;34m(self, key)\u001b[0m\n\u001b[1;32m   2978\u001b[0m             \u001b[0;32mif\u001b[0m \u001b[0mself\u001b[0m\u001b[0;34m.\u001b[0m\u001b[0mcolumns\u001b[0m\u001b[0;34m.\u001b[0m\u001b[0mnlevels\u001b[0m \u001b[0;34m>\u001b[0m \u001b[0;36m1\u001b[0m\u001b[0;34m:\u001b[0m\u001b[0;34m\u001b[0m\u001b[0;34m\u001b[0m\u001b[0m\n\u001b[1;32m   2979\u001b[0m                 \u001b[0;32mreturn\u001b[0m \u001b[0mself\u001b[0m\u001b[0;34m.\u001b[0m\u001b[0m_getitem_multilevel\u001b[0m\u001b[0;34m(\u001b[0m\u001b[0mkey\u001b[0m\u001b[0;34m)\u001b[0m\u001b[0;34m\u001b[0m\u001b[0;34m\u001b[0m\u001b[0m\n\u001b[0;32m-> 2980\u001b[0;31m             \u001b[0mindexer\u001b[0m \u001b[0;34m=\u001b[0m \u001b[0mself\u001b[0m\u001b[0;34m.\u001b[0m\u001b[0mcolumns\u001b[0m\u001b[0;34m.\u001b[0m\u001b[0mget_loc\u001b[0m\u001b[0;34m(\u001b[0m\u001b[0mkey\u001b[0m\u001b[0;34m)\u001b[0m\u001b[0;34m\u001b[0m\u001b[0;34m\u001b[0m\u001b[0m\n\u001b[0m\u001b[1;32m   2981\u001b[0m             \u001b[0;32mif\u001b[0m \u001b[0mis_integer\u001b[0m\u001b[0;34m(\u001b[0m\u001b[0mindexer\u001b[0m\u001b[0;34m)\u001b[0m\u001b[0;34m:\u001b[0m\u001b[0;34m\u001b[0m\u001b[0;34m\u001b[0m\u001b[0m\n\u001b[1;32m   2982\u001b[0m                 \u001b[0mindexer\u001b[0m \u001b[0;34m=\u001b[0m \u001b[0;34m[\u001b[0m\u001b[0mindexer\u001b[0m\u001b[0;34m]\u001b[0m\u001b[0;34m\u001b[0m\u001b[0;34m\u001b[0m\u001b[0m\n",
      "\u001b[0;32m~/opt/anaconda3/lib/python3.7/site-packages/pandas/core/indexes/base.py\u001b[0m in \u001b[0;36mget_loc\u001b[0;34m(self, key, method, tolerance)\u001b[0m\n\u001b[1;32m   2897\u001b[0m                 \u001b[0;32mreturn\u001b[0m \u001b[0mself\u001b[0m\u001b[0;34m.\u001b[0m\u001b[0m_engine\u001b[0m\u001b[0;34m.\u001b[0m\u001b[0mget_loc\u001b[0m\u001b[0;34m(\u001b[0m\u001b[0mkey\u001b[0m\u001b[0;34m)\u001b[0m\u001b[0;34m\u001b[0m\u001b[0;34m\u001b[0m\u001b[0m\n\u001b[1;32m   2898\u001b[0m             \u001b[0;32mexcept\u001b[0m \u001b[0mKeyError\u001b[0m\u001b[0;34m:\u001b[0m\u001b[0;34m\u001b[0m\u001b[0;34m\u001b[0m\u001b[0m\n\u001b[0;32m-> 2899\u001b[0;31m                 \u001b[0;32mreturn\u001b[0m \u001b[0mself\u001b[0m\u001b[0;34m.\u001b[0m\u001b[0m_engine\u001b[0m\u001b[0;34m.\u001b[0m\u001b[0mget_loc\u001b[0m\u001b[0;34m(\u001b[0m\u001b[0mself\u001b[0m\u001b[0;34m.\u001b[0m\u001b[0m_maybe_cast_indexer\u001b[0m\u001b[0;34m(\u001b[0m\u001b[0mkey\u001b[0m\u001b[0;34m)\u001b[0m\u001b[0;34m)\u001b[0m\u001b[0;34m\u001b[0m\u001b[0;34m\u001b[0m\u001b[0m\n\u001b[0m\u001b[1;32m   2900\u001b[0m         \u001b[0mindexer\u001b[0m \u001b[0;34m=\u001b[0m \u001b[0mself\u001b[0m\u001b[0;34m.\u001b[0m\u001b[0mget_indexer\u001b[0m\u001b[0;34m(\u001b[0m\u001b[0;34m[\u001b[0m\u001b[0mkey\u001b[0m\u001b[0;34m]\u001b[0m\u001b[0;34m,\u001b[0m \u001b[0mmethod\u001b[0m\u001b[0;34m=\u001b[0m\u001b[0mmethod\u001b[0m\u001b[0;34m,\u001b[0m \u001b[0mtolerance\u001b[0m\u001b[0;34m=\u001b[0m\u001b[0mtolerance\u001b[0m\u001b[0;34m)\u001b[0m\u001b[0;34m\u001b[0m\u001b[0;34m\u001b[0m\u001b[0m\n\u001b[1;32m   2901\u001b[0m         \u001b[0;32mif\u001b[0m \u001b[0mindexer\u001b[0m\u001b[0;34m.\u001b[0m\u001b[0mndim\u001b[0m \u001b[0;34m>\u001b[0m \u001b[0;36m1\u001b[0m \u001b[0;32mor\u001b[0m \u001b[0mindexer\u001b[0m\u001b[0;34m.\u001b[0m\u001b[0msize\u001b[0m \u001b[0;34m>\u001b[0m \u001b[0;36m1\u001b[0m\u001b[0;34m:\u001b[0m\u001b[0;34m\u001b[0m\u001b[0;34m\u001b[0m\u001b[0m\n",
      "\u001b[0;32mpandas/_libs/index.pyx\u001b[0m in \u001b[0;36mpandas._libs.index.IndexEngine.get_loc\u001b[0;34m()\u001b[0m\n",
      "\u001b[0;32mpandas/_libs/index.pyx\u001b[0m in \u001b[0;36mpandas._libs.index.IndexEngine.get_loc\u001b[0;34m()\u001b[0m\n",
      "\u001b[0;32mpandas/_libs/hashtable_class_helper.pxi\u001b[0m in \u001b[0;36mpandas._libs.hashtable.PyObjectHashTable.get_item\u001b[0;34m()\u001b[0m\n",
      "\u001b[0;32mpandas/_libs/hashtable_class_helper.pxi\u001b[0m in \u001b[0;36mpandas._libs.hashtable.PyObjectHashTable.get_item\u001b[0;34m()\u001b[0m\n",
      "\u001b[0;31mKeyError\u001b[0m: 'Cluster'"
     ]
    }
   ],
   "source": [
    "df = pd.DataFrame([pca_x[:, 0], pca_x[:, 1]]).T\n",
    "df.columns = ['PC1', 'PC2']\n",
    "df = pd.concat([df, data_scale['Cluster']], axis=1)\n",
    "fig = sns.lmplot('PC1', 'PC2', data=df, hue='Cluster', fit_reg=False)"
   ]
  },
  {
   "cell_type": "code",
   "execution_count": null,
   "metadata": {},
   "outputs": [],
   "source": [
    "#fig.savefig('figurePCAV2.pdf')"
   ]
  },
  {
   "cell_type": "code",
   "execution_count": null,
   "metadata": {},
   "outputs": [],
   "source": [
    "\"\"\"df_2 = pd.DataFrame([pca_x[:, 0], pca_x[:, 1]]).T\n",
    "df_2.columns = ['PC1', 'PC2']\n",
    "df_2 = pd.concat([df_2, data_scale['Cluster2']], axis=1)\n",
    "fig_2 = sns.lmplot('PC1', 'PC2', data=df_2, hue='Cluster2', fit_reg=False)\"\"\""
   ]
  },
  {
   "cell_type": "code",
   "execution_count": null,
   "metadata": {},
   "outputs": [],
   "source": [
    "#fig_2.savefig('figurePCAV3.pdf')"
   ]
  },
  {
   "cell_type": "code",
   "execution_count": null,
   "metadata": {},
   "outputs": [],
   "source": [
    "#data_scale.head()"
   ]
  },
  {
   "cell_type": "code",
   "execution_count": null,
   "metadata": {},
   "outputs": [],
   "source": [
    "#data_drop.head()"
   ]
  },
  {
   "cell_type": "code",
   "execution_count": null,
   "metadata": {},
   "outputs": [],
   "source": [
    "#data_drop.to_csv('Cluster.csv')"
   ]
  },
  {
   "cell_type": "code",
   "execution_count": null,
   "metadata": {},
   "outputs": [],
   "source": [
    "\"\"\"cluster0 = data_drop[data_drop.Cluster == 0]\n",
    "cluster1 = data_drop[data_drop.Cluster == 1]\n",
    "cluster2 = data_drop[data_drop.Cluster == 2]\n",
    "cluster3 = data_drop[data_drop.Cluster == 3]\n",
    "cluster4 = data_drop[data_drop.Cluster == 4]\n",
    "cluster5 = data_drop[data_drop.Cluster == 5]\n",
    "cluster6 = data_drop[data_drop.Cluster == 6]\n",
    "cluster7 = data_drop[data_drop.Cluster == 7]\n",
    "cluster8 = data_drop[data_drop.Cluster == 8]\n",
    "cluster9 = data_drop[data_drop.Cluster == 9]\n",
    "cluster10 = data_drop[data_drop.Cluster == 10]\"\"\""
   ]
  },
  {
   "cell_type": "code",
   "execution_count": null,
   "metadata": {},
   "outputs": [],
   "source": [
    "#l_clusters = [data_drop[data_drop.Cluster == i] for i in range(0,11)]"
   ]
  },
  {
   "cell_type": "code",
   "execution_count": null,
   "metadata": {},
   "outputs": [],
   "source": [
    "#[df_.shape[0] for df_ in l_clusters]"
   ]
  },
  {
   "cell_type": "code",
   "execution_count": null,
   "metadata": {},
   "outputs": [],
   "source": [
    "#subset[column].dtype == \"int32\""
   ]
  },
  {
   "cell_type": "code",
   "execution_count": null,
   "metadata": {},
   "outputs": [],
   "source": [
    "\"\"\"for column in data_drop.columns:\n",
    "    for cluster, subset in enumerate(l_clusters):\n",
    "        if subset[column].dtype == \"object\":\n",
    "            print(cluster)\n",
    "            print(column)\n",
    "            print(subset.shape[0])\n",
    "            print(subset[column].value_counts(normalize=True))\"\"\"\n",
    "        \n",
    "        \n",
    "\n",
    "        "
   ]
  },
  {
   "cell_type": "code",
   "execution_count": null,
   "metadata": {},
   "outputs": [],
   "source": [
    "\"\"\"for column in data_drop.columns:\n",
    "    for cluster, subset in enumerate(l_clusters):\n",
    "        if subset[column].dtype != \"object\":\n",
    "            plt.title(str(cluster) +\"-\" + column + \"-\" + str(subset.shape[0]) )\n",
    "            print(subset[column].max())\n",
    "#           print(column)\n",
    "            print(subset.shape[0])\n",
    "            subset[column].hist()\n",
    "            plt.show()\n",
    "        \"\"\"\n",
    "        \n",
    "\n",
    "        "
   ]
  },
  {
   "cell_type": "code",
   "execution_count": null,
   "metadata": {},
   "outputs": [],
   "source": [
    "#print(data_drop[\"CIRCONFERENCEENCM\"].sort_values(ascending=False).tolist())"
   ]
  },
  {
   "cell_type": "code",
   "execution_count": null,
   "metadata": {},
   "outputs": [],
   "source": [
    "#data_drop[\"CIRCONFERENCEENCM\"].describe()"
   ]
  },
  {
   "cell_type": "code",
   "execution_count": null,
   "metadata": {},
   "outputs": [],
   "source": [
    "#len([250255.0, 172180.0, 160170.0, 110120.0, 30140.0, 20130.0, 9130.0, 9035.0, 8107.0, 6125.0, 6085.0, 5545.0, 4090.0, 3120.0, 2750.0, 2545.0, 2260.0, 2219.0, 2196.0, 2090.0, 2025.0, 1801.0, 1590.0, 1360.0, 1345.0, 1340.0, 1337.0, 1240.0, 1240.0, 1230.0, 1220.0, 1200.0, 1200.0, 1190.0, 1190.0, 1160.0, 1160.0, 1160.0, 1155.0, 1151.0, 1150.0, 1145.0, 1140.0, 1140.0, 1140.0, 1138.0, 1133.0, 1130.0, 1124.0, 1120.0, 1120.0, 1112.0, 1106.0, 1102.0, 1054.0, 1005.0, 1000.0, 998.0, 784.0])"
   ]
  },
  {
   "cell_type": "code",
   "execution_count": null,
   "metadata": {},
   "outputs": [],
   "source": [
    "#print(data_drop[\"HAUTEUR (m)\"].sort_values(ascending=False).tolist())"
   ]
  },
  {
   "cell_type": "code",
   "execution_count": null,
   "metadata": {},
   "outputs": [],
   "source": [
    "#data_drop[\"HAUTEUR (m)\"].describe()"
   ]
  },
  {
   "cell_type": "code",
   "execution_count": null,
   "metadata": {},
   "outputs": [],
   "source": [
    "#data_drop[data_drop[\"HAUTEUR (m)\"]==150]"
   ]
  },
  {
   "cell_type": "code",
   "execution_count": null,
   "metadata": {},
   "outputs": [],
   "source": []
  }
 ],
 "metadata": {
  "kernelspec": {
   "display_name": "Python 3",
   "language": "python",
   "name": "python3"
  },
  "language_info": {
   "codemirror_mode": {
    "name": "ipython",
    "version": 3
   },
   "file_extension": ".py",
   "mimetype": "text/x-python",
   "name": "python",
   "nbconvert_exporter": "python",
   "pygments_lexer": "ipython3",
   "version": "3.7.4"
  }
 },
 "nbformat": 4,
 "nbformat_minor": 4
}
